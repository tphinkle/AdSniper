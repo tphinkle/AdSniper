{
 "cells": [
  {
   "cell_type": "code",
   "execution_count": 1,
   "metadata": {
    "collapsed": true
   },
   "outputs": [],
   "source": [
    "import matplotlib.pyplot as plt\n",
    "%matplotlib inline\n",
    "import pandas as pd\n",
    "import numpy as np\n",
    "import re\n",
    "import time"
   ]
  },
  {
   "cell_type": "markdown",
   "metadata": {},
   "source": [
    "# Load the data"
   ]
  },
  {
   "cell_type": "code",
   "execution_count": 2,
   "metadata": {
    "collapsed": true
   },
   "outputs": [],
   "source": [
    "directory='./data/'"
   ]
  },
  {
   "cell_type": "code",
   "execution_count": 3,
   "metadata": {
    "collapsed": true
   },
   "outputs": [],
   "source": [
    "appdesc_names=['application_version_id','package_name','name','version','developer','app_type','category','m2_category',\\\n",
    "               'permissions','permission_weight','notification_score','analytic_providers','apk_size','ignore_category',\\\n",
    "               'icon_link', 'not_on_play','create_device_id','create_date','update_date']"
   ]
  },
  {
   "cell_type": "code",
   "execution_count": 4,
   "metadata": {
    "collapsed": true
   },
   "outputs": [],
   "source": [
    "appdesc_df=pd.read_csv(directory+'application_versions.csv', error_bad_lines=False, names=appdesc_names)"
   ]
  },
  {
   "cell_type": "code",
   "execution_count": 5,
   "metadata": {
    "collapsed": false
   },
   "outputs": [],
   "source": [
    "###########################\n",
    "# Lowercase\n",
    "appdesc_df['name']=appdesc_df['name'].map(lambda x: str(x).lower())\n",
    "\n",
    "###########################\n",
    "# Remove special characters\n",
    "appdesc_df['name']=appdesc_df['name'].map(lambda x: re.sub(r'([^\\s\\w]|_)+', '', x))"
   ]
  },
  {
   "cell_type": "markdown",
   "metadata": {},
   "source": [
    "# Get time spent per category for each user"
   ]
  },
  {
   "cell_type": "markdown",
   "metadata": {},
   "source": [
    "### Concatenate all months\n",
    "\n",
    "filenames = ['./data/app_usage_events_all_september.csv','./data/app_usage_events_all_october.csv','./data/app_usage_events_all_november.csv']\n",
    "with open('./data/app_usage_events_all', 'w') as outfile:\n",
    "    for fname in filenames:\n",
    "        with open(fname) as infile:\n",
    "            if fname != './data/app_usage_events_all_september.csv':\n",
    "                infile.readline()\n",
    "            for line in infile:\n",
    "                outfile.write(line)"
   ]
  },
  {
   "cell_type": "markdown",
   "metadata": {},
   "source": [
    "### Get user data"
   ]
  },
  {
   "cell_type": "code",
   "execution_count": 6,
   "metadata": {
    "collapsed": false
   },
   "outputs": [],
   "source": [
    "def get_category_integer(package_name):\n",
    "    try:\n",
    "        category_integer=int(appdesc_df[appdesc_df['package_name']==package_name]['category'].values[0])\n",
    "    except:\n",
    "        return 0\n",
    "    if category_integer<0:\n",
    "        category_integer=0\n",
    "    return category_integer"
   ]
  },
  {
   "cell_type": "code",
   "execution_count": 7,
   "metadata": {
    "collapsed": false
   },
   "outputs": [],
   "source": [
    "total_lines=166415646\n",
    "#total_lines=10000\n",
    "lines_per_read=1000000\n",
    "\n",
    "header_list=['device_id','application_version_id','type','start_date','run_time','end_date','continuation','year',\\\n",
    "             'month','day','package_name']\n",
    "\n",
    "device_id_index=0\n",
    "package_name_index=10\n",
    "run_time_index=4"
   ]
  },
  {
   "cell_type": "code",
   "execution_count": 8,
   "metadata": {
    "collapsed": false
   },
   "outputs": [],
   "source": [
    "null_line={'device_id': '0'}\n",
    "total_categories=49\n",
    "for i in range(total_categories):\n",
    "    null_line[str(i)]=i\n",
    "    \n",
    "user_df=pd.DataFrame(data=null_line, index=[0])\n",
    "cols=(['device_id']+[str(i) for i in range(total_categories)])\n",
    "user_df=user_df[cols]"
   ]
  },
  {
   "cell_type": "code",
   "execution_count": 10,
   "metadata": {
    "collapsed": true
   },
   "outputs": [],
   "source": [
    "pickle_filename='./data/pkl/user_data.pkl'"
   ]
  },
  {
   "cell_type": "code",
   "execution_count": 11,
   "metadata": {
    "collapsed": false
   },
   "outputs": [
    {
     "name": "stdout",
     "output_type": "stream",
     "text": [
      "i= 1000002 dt= 424.782610893\n",
      "i= 2000003 dt= 403.753925085\n",
      "i= 3000004 dt= 414.778650045\n",
      "i= 4000005 dt= 319.298412085\n",
      "i= 5000006 dt= 356.618561029\n",
      "i= 6000007 dt= 398.31009984\n",
      "i= 7000008 dt= 355.729816914\n",
      "i= 8000009 dt= 475.829794884\n",
      "i= 9000010 dt= 383.039916992\n",
      "i= 10000011 dt= 379.922968864\n",
      "i= 11000012 dt= 381.120043993\n",
      "i= 12000013 dt= 347.118180037\n",
      "i= 13000014 dt= 406.783582926\n",
      "i= 14000015 dt= 387.595858812\n",
      "i= 15000016 dt= 427.790014982\n",
      "i= 16000017 dt= 440.221220016\n",
      "i= 17000018 dt= 422.063371897\n",
      "i= 18000019 dt= 334.282606125\n",
      "i= 19000020 dt= 339.053781033\n",
      "i= 20000021 dt= 390.280629873\n",
      "i= 21000022 dt= 320.772987127\n",
      "i= 22000023 dt= 460.355503082\n",
      "i= 23000024 dt= 320.106631994\n",
      "i= 24000025 dt= 379.306640863\n",
      "i= 25000026 dt= 448.717424154\n",
      "i= 26000027 dt= 494.071552992\n",
      "i= 27000028 dt= 508.266517162\n",
      "i= 28000029 dt= 469.319725037\n",
      "i= 29000030 dt= 382.673518181\n",
      "i= 30000031 dt= 638.043957949\n",
      "i= 31000032 dt= 543.993613958\n",
      "i= 32000033 dt= 488.832910061\n",
      "i= 33000034 dt= 489.615074873\n",
      "i= 34000035 dt= 450.540912151\n",
      "i= 35000036 dt= 469.083070993\n",
      "i= 36000037 dt= 468.818000078\n",
      "i= 37000038 dt= 463.657409906\n",
      "i= 38000039 dt= 486.577270985\n",
      "i= 39000040 dt= 492.408174992\n",
      "i= 40000041 dt= 503.208629847\n",
      "i= 41000042 dt= 476.137211084\n",
      "i= 42000043 dt= 424.585925102\n",
      "i= 43000044 dt= 473.810103893\n",
      "i= 44000045 dt= 452.192003012\n",
      "i= 45000046 dt= 507.687418222\n",
      "i= 46000047 dt= 485.29124403\n",
      "i= 47000048 dt= 478.817387819\n",
      "i= 48000049 dt= 479.994270086\n",
      "i= 49000050 dt= 515.568266153\n",
      "i= 50000051 dt= 447.77401495\n",
      "i= 51000052 dt= 496.956616879\n",
      "i= 52000053 dt= 489.973091125\n",
      "i= 53000054 dt= 408.150639057\n",
      "i= 54000055 dt= 519.73786521\n",
      "i= 55000056 dt= 489.588907957\n",
      "i= 56000057 dt= 485.615133047\n",
      "i= 57000058 dt= 575.708361864\n",
      "i= 58000059 dt= 511.466282129\n",
      "i= 59000060 dt= 541.517371893\n",
      "i= 60000061 dt= 502.201423168\n",
      "i= 61000062 dt= 421.678347111\n",
      "i= 62000063 dt= 483.087337017\n",
      "i= 63000064 dt= 483.032487154\n",
      "i= 64000065 dt= 542.537126064\n",
      "i= 65000066 dt= 458.069182158\n",
      "i= 66000067 dt= 462.665282965\n",
      "i= 67000068 dt= 747.974638939\n",
      "i= 68000069 dt= 415.073230982\n",
      "i= 69000070 dt= 431.279224157\n",
      "i= 70000071 dt= 467.706347942\n",
      "i= 71000072 dt= 446.589206934\n",
      "i= 72000073 dt= 451.414160013\n",
      "i= 73000074 dt= 475.946773052\n",
      "i= 74000075 dt= 538.94042182\n",
      "i= 75000076 dt= 612.281356812\n",
      "i= 76000077 dt= 588.002737999\n",
      "i= 77000078 dt= 384.606906891\n",
      "i= 78000079 dt= 483.962472916\n",
      "i= 79000080 dt= 512.420717955\n",
      "i= 80000081 dt= 420.771924973\n",
      "i= 81000082 dt= 531.881488085\n",
      "i= 82000083 dt= 430.360741854\n",
      "i= 83000084 dt= 482.770456076\n",
      "i= 84000085 dt= 531.94633007\n",
      "i= 85000086 dt= 619.458297014\n",
      "i= 86000087 dt= 627.561877966\n",
      "i= 87000088 dt= 564.429137945\n"
     ]
    },
    {
     "ename": "KeyboardInterrupt",
     "evalue": "",
     "output_type": "error",
     "traceback": [
      "\u001b[1;31m---------------------------------------------------------------------------\u001b[0m",
      "\u001b[1;31mKeyboardInterrupt\u001b[0m                         Traceback (most recent call last)",
      "\u001b[1;32m<ipython-input-11-a1417ee2130b>\u001b[0m in \u001b[0;36m<module>\u001b[1;34m()\u001b[0m\n\u001b[0;32m      8\u001b[0m         \u001b[0mnrows\u001b[0m\u001b[1;33m=\u001b[0m\u001b[0mlines_per_read\u001b[0m\u001b[1;33m\u001b[0m\u001b[0m\n\u001b[0;32m      9\u001b[0m \u001b[1;33m\u001b[0m\u001b[0m\n\u001b[1;32m---> 10\u001b[1;33m     \u001b[0mtemp_df\u001b[0m\u001b[1;33m=\u001b[0m\u001b[0mpd\u001b[0m\u001b[1;33m.\u001b[0m\u001b[0mread_csv\u001b[0m\u001b[1;33m(\u001b[0m\u001b[0mdirectory\u001b[0m\u001b[1;33m+\u001b[0m\u001b[1;34m'app_usage_events_all.csv'\u001b[0m\u001b[1;33m,\u001b[0m \u001b[0mskiprows\u001b[0m\u001b[1;33m=\u001b[0m\u001b[0mskiprows\u001b[0m\u001b[1;33m,\u001b[0m \u001b[0mnrows\u001b[0m\u001b[1;33m=\u001b[0m\u001b[0mnrows\u001b[0m\u001b[1;33m,\u001b[0m \u001b[0mnames\u001b[0m\u001b[1;33m=\u001b[0m\u001b[0mheader_list\u001b[0m\u001b[1;33m)\u001b[0m\u001b[1;33m\u001b[0m\u001b[0m\n\u001b[0m\u001b[0;32m     11\u001b[0m     \u001b[0mtemp_df\u001b[0m\u001b[1;33m=\u001b[0m\u001b[0mtemp_df\u001b[0m\u001b[1;33m[\u001b[0m\u001b[0mtemp_df\u001b[0m\u001b[1;33m[\u001b[0m\u001b[1;34m'type'\u001b[0m\u001b[1;33m]\u001b[0m\u001b[1;33m!=\u001b[0m\u001b[1;36m4\u001b[0m\u001b[1;33m]\u001b[0m\u001b[1;33m[\u001b[0m\u001b[1;33m[\u001b[0m\u001b[1;34m'device_id'\u001b[0m\u001b[1;33m,\u001b[0m \u001b[1;34m'package_name'\u001b[0m\u001b[1;33m,\u001b[0m \u001b[1;34m'run_time'\u001b[0m\u001b[1;33m]\u001b[0m\u001b[1;33m]\u001b[0m\u001b[1;33m\u001b[0m\u001b[0m\n\u001b[0;32m     12\u001b[0m     \u001b[0mtemp_df\u001b[0m\u001b[1;33m[\u001b[0m\u001b[1;34m'category'\u001b[0m\u001b[1;33m]\u001b[0m\u001b[1;33m=\u001b[0m\u001b[0mtemp_df\u001b[0m\u001b[1;33m[\u001b[0m\u001b[1;34m'package_name'\u001b[0m\u001b[1;33m]\u001b[0m\u001b[1;33m.\u001b[0m\u001b[0mmap\u001b[0m\u001b[1;33m(\u001b[0m\u001b[1;32mlambda\u001b[0m \u001b[0mx\u001b[0m\u001b[1;33m:\u001b[0m \u001b[0mget_category_integer\u001b[0m\u001b[1;33m(\u001b[0m\u001b[0mx\u001b[0m\u001b[1;33m)\u001b[0m\u001b[1;33m)\u001b[0m\u001b[1;33m\u001b[0m\u001b[0m\n",
      "\u001b[1;32m/home/preston/anaconda3/envs/py27/lib/python2.7/site-packages/pandas/io/parsers.pyc\u001b[0m in \u001b[0;36mparser_f\u001b[1;34m(filepath_or_buffer, sep, delimiter, header, names, index_col, usecols, squeeze, prefix, mangle_dupe_cols, dtype, engine, converters, true_values, false_values, skipinitialspace, skiprows, skipfooter, nrows, na_values, keep_default_na, na_filter, verbose, skip_blank_lines, parse_dates, infer_datetime_format, keep_date_col, date_parser, dayfirst, iterator, chunksize, compression, thousands, decimal, lineterminator, quotechar, quoting, escapechar, comment, encoding, dialect, tupleize_cols, error_bad_lines, warn_bad_lines, skip_footer, doublequote, delim_whitespace, as_recarray, compact_ints, use_unsigned, low_memory, buffer_lines, memory_map, float_precision)\u001b[0m\n\u001b[0;32m    527\u001b[0m                     skip_blank_lines=skip_blank_lines)\n\u001b[0;32m    528\u001b[0m \u001b[1;33m\u001b[0m\u001b[0m\n\u001b[1;32m--> 529\u001b[1;33m         \u001b[1;32mreturn\u001b[0m \u001b[0m_read\u001b[0m\u001b[1;33m(\u001b[0m\u001b[0mfilepath_or_buffer\u001b[0m\u001b[1;33m,\u001b[0m \u001b[0mkwds\u001b[0m\u001b[1;33m)\u001b[0m\u001b[1;33m\u001b[0m\u001b[0m\n\u001b[0m\u001b[0;32m    530\u001b[0m \u001b[1;33m\u001b[0m\u001b[0m\n\u001b[0;32m    531\u001b[0m     \u001b[0mparser_f\u001b[0m\u001b[1;33m.\u001b[0m\u001b[0m__name__\u001b[0m \u001b[1;33m=\u001b[0m \u001b[0mname\u001b[0m\u001b[1;33m\u001b[0m\u001b[0m\n",
      "\u001b[1;32m/home/preston/anaconda3/envs/py27/lib/python2.7/site-packages/pandas/io/parsers.pyc\u001b[0m in \u001b[0;36m_read\u001b[1;34m(filepath_or_buffer, kwds)\u001b[0m\n\u001b[0;32m    293\u001b[0m \u001b[1;33m\u001b[0m\u001b[0m\n\u001b[0;32m    294\u001b[0m     \u001b[1;31m# Create the parser.\u001b[0m\u001b[1;33m\u001b[0m\u001b[1;33m\u001b[0m\u001b[0m\n\u001b[1;32m--> 295\u001b[1;33m     \u001b[0mparser\u001b[0m \u001b[1;33m=\u001b[0m \u001b[0mTextFileReader\u001b[0m\u001b[1;33m(\u001b[0m\u001b[0mfilepath_or_buffer\u001b[0m\u001b[1;33m,\u001b[0m \u001b[1;33m**\u001b[0m\u001b[0mkwds\u001b[0m\u001b[1;33m)\u001b[0m\u001b[1;33m\u001b[0m\u001b[0m\n\u001b[0m\u001b[0;32m    296\u001b[0m \u001b[1;33m\u001b[0m\u001b[0m\n\u001b[0;32m    297\u001b[0m     \u001b[1;32mif\u001b[0m \u001b[1;33m(\u001b[0m\u001b[0mnrows\u001b[0m \u001b[1;32mis\u001b[0m \u001b[1;32mnot\u001b[0m \u001b[0mNone\u001b[0m\u001b[1;33m)\u001b[0m \u001b[1;32mand\u001b[0m \u001b[1;33m(\u001b[0m\u001b[0mchunksize\u001b[0m \u001b[1;32mis\u001b[0m \u001b[1;32mnot\u001b[0m \u001b[0mNone\u001b[0m\u001b[1;33m)\u001b[0m\u001b[1;33m:\u001b[0m\u001b[1;33m\u001b[0m\u001b[0m\n",
      "\u001b[1;32m/home/preston/anaconda3/envs/py27/lib/python2.7/site-packages/pandas/io/parsers.pyc\u001b[0m in \u001b[0;36m__init__\u001b[1;34m(self, f, engine, **kwds)\u001b[0m\n\u001b[0;32m    610\u001b[0m             \u001b[0mself\u001b[0m\u001b[1;33m.\u001b[0m\u001b[0moptions\u001b[0m\u001b[1;33m[\u001b[0m\u001b[1;34m'has_index_names'\u001b[0m\u001b[1;33m]\u001b[0m \u001b[1;33m=\u001b[0m \u001b[0mkwds\u001b[0m\u001b[1;33m[\u001b[0m\u001b[1;34m'has_index_names'\u001b[0m\u001b[1;33m]\u001b[0m\u001b[1;33m\u001b[0m\u001b[0m\n\u001b[0;32m    611\u001b[0m \u001b[1;33m\u001b[0m\u001b[0m\n\u001b[1;32m--> 612\u001b[1;33m         \u001b[0mself\u001b[0m\u001b[1;33m.\u001b[0m\u001b[0m_make_engine\u001b[0m\u001b[1;33m(\u001b[0m\u001b[0mself\u001b[0m\u001b[1;33m.\u001b[0m\u001b[0mengine\u001b[0m\u001b[1;33m)\u001b[0m\u001b[1;33m\u001b[0m\u001b[0m\n\u001b[0m\u001b[0;32m    613\u001b[0m \u001b[1;33m\u001b[0m\u001b[0m\n\u001b[0;32m    614\u001b[0m     \u001b[1;32mdef\u001b[0m \u001b[0m_get_options_with_defaults\u001b[0m\u001b[1;33m(\u001b[0m\u001b[0mself\u001b[0m\u001b[1;33m,\u001b[0m \u001b[0mengine\u001b[0m\u001b[1;33m)\u001b[0m\u001b[1;33m:\u001b[0m\u001b[1;33m\u001b[0m\u001b[0m\n",
      "\u001b[1;32m/home/preston/anaconda3/envs/py27/lib/python2.7/site-packages/pandas/io/parsers.pyc\u001b[0m in \u001b[0;36m_make_engine\u001b[1;34m(self, engine)\u001b[0m\n\u001b[0;32m    745\u001b[0m     \u001b[1;32mdef\u001b[0m \u001b[0m_make_engine\u001b[0m\u001b[1;33m(\u001b[0m\u001b[0mself\u001b[0m\u001b[1;33m,\u001b[0m \u001b[0mengine\u001b[0m\u001b[1;33m=\u001b[0m\u001b[1;34m'c'\u001b[0m\u001b[1;33m)\u001b[0m\u001b[1;33m:\u001b[0m\u001b[1;33m\u001b[0m\u001b[0m\n\u001b[0;32m    746\u001b[0m         \u001b[1;32mif\u001b[0m \u001b[0mengine\u001b[0m \u001b[1;33m==\u001b[0m \u001b[1;34m'c'\u001b[0m\u001b[1;33m:\u001b[0m\u001b[1;33m\u001b[0m\u001b[0m\n\u001b[1;32m--> 747\u001b[1;33m             \u001b[0mself\u001b[0m\u001b[1;33m.\u001b[0m\u001b[0m_engine\u001b[0m \u001b[1;33m=\u001b[0m \u001b[0mCParserWrapper\u001b[0m\u001b[1;33m(\u001b[0m\u001b[0mself\u001b[0m\u001b[1;33m.\u001b[0m\u001b[0mf\u001b[0m\u001b[1;33m,\u001b[0m \u001b[1;33m**\u001b[0m\u001b[0mself\u001b[0m\u001b[1;33m.\u001b[0m\u001b[0moptions\u001b[0m\u001b[1;33m)\u001b[0m\u001b[1;33m\u001b[0m\u001b[0m\n\u001b[0m\u001b[0;32m    748\u001b[0m         \u001b[1;32melse\u001b[0m\u001b[1;33m:\u001b[0m\u001b[1;33m\u001b[0m\u001b[0m\n\u001b[0;32m    749\u001b[0m             \u001b[1;32mif\u001b[0m \u001b[0mengine\u001b[0m \u001b[1;33m==\u001b[0m \u001b[1;34m'python'\u001b[0m\u001b[1;33m:\u001b[0m\u001b[1;33m\u001b[0m\u001b[0m\n",
      "\u001b[1;32m/home/preston/anaconda3/envs/py27/lib/python2.7/site-packages/pandas/io/parsers.pyc\u001b[0m in \u001b[0;36m__init__\u001b[1;34m(self, src, **kwds)\u001b[0m\n\u001b[0;32m   1117\u001b[0m         \u001b[0mkwds\u001b[0m\u001b[1;33m[\u001b[0m\u001b[1;34m'allow_leading_cols'\u001b[0m\u001b[1;33m]\u001b[0m \u001b[1;33m=\u001b[0m \u001b[0mself\u001b[0m\u001b[1;33m.\u001b[0m\u001b[0mindex_col\u001b[0m \u001b[1;32mis\u001b[0m \u001b[1;32mnot\u001b[0m \u001b[0mFalse\u001b[0m\u001b[1;33m\u001b[0m\u001b[0m\n\u001b[0;32m   1118\u001b[0m \u001b[1;33m\u001b[0m\u001b[0m\n\u001b[1;32m-> 1119\u001b[1;33m         \u001b[0mself\u001b[0m\u001b[1;33m.\u001b[0m\u001b[0m_reader\u001b[0m \u001b[1;33m=\u001b[0m \u001b[0m_parser\u001b[0m\u001b[1;33m.\u001b[0m\u001b[0mTextReader\u001b[0m\u001b[1;33m(\u001b[0m\u001b[0msrc\u001b[0m\u001b[1;33m,\u001b[0m \u001b[1;33m**\u001b[0m\u001b[0mkwds\u001b[0m\u001b[1;33m)\u001b[0m\u001b[1;33m\u001b[0m\u001b[0m\n\u001b[0m\u001b[0;32m   1120\u001b[0m \u001b[1;33m\u001b[0m\u001b[0m\n\u001b[0;32m   1121\u001b[0m         \u001b[1;31m# XXX\u001b[0m\u001b[1;33m\u001b[0m\u001b[1;33m\u001b[0m\u001b[0m\n",
      "\u001b[1;31mKeyboardInterrupt\u001b[0m: "
     ]
    }
   ],
   "source": [
    "i=1\n",
    "while i < total_lines:\n",
    "    t1=time.time()\n",
    "    skiprows=i\n",
    "    if skiprows+lines_per_read > total_lines:\n",
    "        nrows=total_lines-skiprows\n",
    "    else:\n",
    "        nrows=lines_per_read\n",
    "        \n",
    "    temp_df=pd.read_csv(directory+'app_usage_events_all.csv', skiprows=skiprows, nrows=nrows, names=header_list)\n",
    "    temp_df=temp_df[temp_df['type']!=4][['device_id', 'package_name', 'run_time']]\n",
    "    temp_df['category']=temp_df['package_name'].map(lambda x: get_category_integer(x))\n",
    "    temp_df=temp_df[temp_df['category']!=0]\n",
    "    \n",
    "    for device_id in temp_df['device_id'].unique():\n",
    "        temp_temp_df=temp_df[temp_df['device_id']==device_id]\n",
    "        totals_dict={}\n",
    "        totals_dict['device_id']=device_id\n",
    "        totals_list=[0 for i in range(total_categories+1)]\n",
    "        totals_list[0]=device_id\n",
    "        \n",
    "        for i in range(total_categories):\n",
    "            totals_dict[str(i)]=0\n",
    "\n",
    "        for category in np.sort(temp_temp_df['category'].unique()):\n",
    "            category_total=temp_temp_df[temp_temp_df['category']==category]['run_time'].sum()\n",
    "            totals_dict[category]=category_total\n",
    "            totals_list[category]=category_total\n",
    "            \n",
    "        user_df.loc[len(user_df)]=totals_list\n",
    "        \n",
    "    i=skiprows+nrows+1\n",
    "    t2=time.time()\n",
    "    print 'i=',i,'dt=',t2-t1\n",
    "    user_df.to_pickle(pickle_filename)"
   ]
  },
  {
   "cell_type": "code",
   "execution_count": null,
   "metadata": {
    "collapsed": true
   },
   "outputs": [],
   "source": []
  }
 ],
 "metadata": {
  "kernelspec": {
   "display_name": "Python 2",
   "language": "python",
   "name": "python2"
  },
  "language_info": {
   "codemirror_mode": {
    "name": "ipython",
    "version": 2
   },
   "file_extension": ".py",
   "mimetype": "text/x-python",
   "name": "python",
   "nbconvert_exporter": "python",
   "pygments_lexer": "ipython2",
   "version": "2.7.11"
  }
 },
 "nbformat": 4,
 "nbformat_minor": 0
}
