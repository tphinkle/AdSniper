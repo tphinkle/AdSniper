{
 "cells": [
  {
   "cell_type": "markdown",
   "metadata": {},
   "source": [
    "# Imports && Imports"
   ]
  },
  {
   "cell_type": "code",
   "execution_count": 2,
   "metadata": {
    "collapsed": false
   },
   "outputs": [],
   "source": [
    "import numpy as np\n",
    "import pandas as pd\n",
    "import matplotlib.pyplot as plt\n",
    "import matplotlib.cm as cm\n",
    "%matplotlib inline\n",
    "import seaborn as sns\n",
    "from sklearn.cluster import KMeans\n",
    "from sklearn.decomposition import PCA"
   ]
  },
  {
   "cell_type": "code",
   "execution_count": 3,
   "metadata": {
    "collapsed": false
   },
   "outputs": [],
   "source": [
    "total_categories=49\n",
    "title_size=24\n",
    "label_size=20\n",
    "text_size=18\n",
    "tick_size=16\n",
    "cmap=cm.Blues(np.linspace(0,1.,21))"
   ]
  },
  {
   "cell_type": "markdown",
   "metadata": {},
   "source": [
    "# Load/fix the data"
   ]
  },
  {
   "cell_type": "code",
   "execution_count": 4,
   "metadata": {
    "collapsed": true
   },
   "outputs": [],
   "source": [
    "directory='./data/pkl/'\n",
    "file_name='user_data_backup_3.pkl'"
   ]
  },
  {
   "cell_type": "code",
   "execution_count": 5,
   "metadata": {
    "collapsed": false
   },
   "outputs": [],
   "source": [
    "df=pd.read_pickle(directory+file_name)"
   ]
  },
  {
   "cell_type": "code",
   "execution_count": 6,
   "metadata": {
    "collapsed": false
   },
   "outputs": [],
   "source": [
    "id_category={}\n",
    "id_category_filename='./data/id_category.txt'\n",
    "file_handle=open(id_category_filename)\n",
    "line=' '\n",
    "while line:\n",
    "    try:\n",
    "        line=file_handle.readline().split('\\t')\n",
    "        key=line[0]\n",
    "        value=line[1].replace('\\n', '')\n",
    "        id_category[key]=value\n",
    "    except:\n",
    "        break"
   ]
  },
  {
   "cell_type": "code",
   "execution_count": 21,
   "metadata": {
    "collapsed": false
   },
   "outputs": [
    {
     "data": {
      "text/html": [
       "<div>\n",
       "<table border=\"1\" class=\"dataframe\">\n",
       "  <thead>\n",
       "    <tr style=\"text-align: right;\">\n",
       "      <th></th>\n",
       "      <th>device_id</th>\n",
       "      <th>0</th>\n",
       "      <th>1</th>\n",
       "      <th>2</th>\n",
       "      <th>3</th>\n",
       "      <th>4</th>\n",
       "      <th>5</th>\n",
       "      <th>6</th>\n",
       "      <th>7</th>\n",
       "      <th>8</th>\n",
       "      <th>...</th>\n",
       "      <th>39</th>\n",
       "      <th>40</th>\n",
       "      <th>41</th>\n",
       "      <th>42</th>\n",
       "      <th>43</th>\n",
       "      <th>44</th>\n",
       "      <th>45</th>\n",
       "      <th>46</th>\n",
       "      <th>47</th>\n",
       "      <th>48</th>\n",
       "    </tr>\n",
       "  </thead>\n",
       "  <tbody>\n",
       "    <tr>\n",
       "      <th>0</th>\n",
       "      <td>0</td>\n",
       "      <td>0</td>\n",
       "      <td>1</td>\n",
       "      <td>2</td>\n",
       "      <td>3</td>\n",
       "      <td>4</td>\n",
       "      <td>5</td>\n",
       "      <td>6</td>\n",
       "      <td>7</td>\n",
       "      <td>8</td>\n",
       "      <td>...</td>\n",
       "      <td>39</td>\n",
       "      <td>40</td>\n",
       "      <td>41</td>\n",
       "      <td>42</td>\n",
       "      <td>43</td>\n",
       "      <td>44</td>\n",
       "      <td>45</td>\n",
       "      <td>46</td>\n",
       "      <td>47</td>\n",
       "      <td>48</td>\n",
       "    </tr>\n",
       "    <tr>\n",
       "      <th>1</th>\n",
       "      <td>34106</td>\n",
       "      <td>31927</td>\n",
       "      <td>0</td>\n",
       "      <td>39448</td>\n",
       "      <td>0</td>\n",
       "      <td>0</td>\n",
       "      <td>0</td>\n",
       "      <td>0</td>\n",
       "      <td>39208</td>\n",
       "      <td>0</td>\n",
       "      <td>...</td>\n",
       "      <td>0</td>\n",
       "      <td>0</td>\n",
       "      <td>0</td>\n",
       "      <td>0</td>\n",
       "      <td>0</td>\n",
       "      <td>0</td>\n",
       "      <td>0</td>\n",
       "      <td>0</td>\n",
       "      <td>0</td>\n",
       "      <td>0</td>\n",
       "    </tr>\n",
       "    <tr>\n",
       "      <th>2</th>\n",
       "      <td>36750</td>\n",
       "      <td>497671</td>\n",
       "      <td>88562935</td>\n",
       "      <td>3774281</td>\n",
       "      <td>0</td>\n",
       "      <td>0</td>\n",
       "      <td>0</td>\n",
       "      <td>1301912</td>\n",
       "      <td>402810</td>\n",
       "      <td>128171</td>\n",
       "      <td>...</td>\n",
       "      <td>0</td>\n",
       "      <td>0</td>\n",
       "      <td>0</td>\n",
       "      <td>0</td>\n",
       "      <td>0</td>\n",
       "      <td>0</td>\n",
       "      <td>0</td>\n",
       "      <td>0</td>\n",
       "      <td>0</td>\n",
       "      <td>0</td>\n",
       "    </tr>\n",
       "    <tr>\n",
       "      <th>3</th>\n",
       "      <td>38608</td>\n",
       "      <td>26319</td>\n",
       "      <td>6506843</td>\n",
       "      <td>0</td>\n",
       "      <td>0</td>\n",
       "      <td>0</td>\n",
       "      <td>0</td>\n",
       "      <td>2794364</td>\n",
       "      <td>548974</td>\n",
       "      <td>0</td>\n",
       "      <td>...</td>\n",
       "      <td>0</td>\n",
       "      <td>0</td>\n",
       "      <td>0</td>\n",
       "      <td>0</td>\n",
       "      <td>0</td>\n",
       "      <td>28239620</td>\n",
       "      <td>0</td>\n",
       "      <td>0</td>\n",
       "      <td>0</td>\n",
       "      <td>0</td>\n",
       "    </tr>\n",
       "    <tr>\n",
       "      <th>4</th>\n",
       "      <td>39175</td>\n",
       "      <td>0</td>\n",
       "      <td>17755594</td>\n",
       "      <td>5680644</td>\n",
       "      <td>38613</td>\n",
       "      <td>0</td>\n",
       "      <td>3300218</td>\n",
       "      <td>19384</td>\n",
       "      <td>39749</td>\n",
       "      <td>0</td>\n",
       "      <td>...</td>\n",
       "      <td>0</td>\n",
       "      <td>831555</td>\n",
       "      <td>0</td>\n",
       "      <td>0</td>\n",
       "      <td>0</td>\n",
       "      <td>0</td>\n",
       "      <td>0</td>\n",
       "      <td>0</td>\n",
       "      <td>0</td>\n",
       "      <td>0</td>\n",
       "    </tr>\n",
       "  </tbody>\n",
       "</table>\n",
       "<p>5 rows × 50 columns</p>\n",
       "</div>"
      ],
      "text/plain": [
       "  device_id       0         1        2      3  4        5        6       7  \\\n",
       "0         0       0         1        2      3  4        5        6       7   \n",
       "1     34106   31927         0    39448      0  0        0        0   39208   \n",
       "2     36750  497671  88562935  3774281      0  0        0  1301912  402810   \n",
       "3     38608   26319   6506843        0      0  0        0  2794364  548974   \n",
       "4     39175       0  17755594  5680644  38613  0  3300218    19384   39749   \n",
       "\n",
       "        8 ...  39      40  41  42  43        44  45  46  47  48  \n",
       "0       8 ...  39      40  41  42  43        44  45  46  47  48  \n",
       "1       0 ...   0       0   0   0   0         0   0   0   0   0  \n",
       "2  128171 ...   0       0   0   0   0         0   0   0   0   0  \n",
       "3       0 ...   0       0   0   0   0  28239620   0   0   0   0  \n",
       "4       0 ...   0  831555   0   0   0         0   0   0   0   0  \n",
       "\n",
       "[5 rows x 50 columns]"
      ]
     },
     "execution_count": 21,
     "metadata": {},
     "output_type": "execute_result"
    }
   ],
   "source": [
    "df.head()"
   ]
  },
  {
   "cell_type": "markdown",
   "metadata": {},
   "source": [
    "# Plot most popular apps by play time"
   ]
  },
  {
   "cell_type": "code",
   "execution_count": 22,
   "metadata": {
    "collapsed": false
   },
   "outputs": [],
   "source": [
    "playtime_list=[]\n",
    "for i in range(1,total_categories):\n",
    "    playtime_list.append(df[str(i)].sum())"
   ]
  },
  {
   "cell_type": "code",
   "execution_count": 23,
   "metadata": {
    "collapsed": false
   },
   "outputs": [],
   "source": [
    "keys=[int(key) for key in id_category.keys()]\n",
    "keys.sort()"
   ]
  },
  {
   "cell_type": "code",
   "execution_count": 24,
   "metadata": {
    "collapsed": false
   },
   "outputs": [
    {
     "name": "stdout",
     "output_type": "stream",
     "text": [
      "[137315436322, 2711720305, 1507571259, 361727217, 6895099604, 31840773998, 8237177177, 1919100506, 28421509103, 2246611424, 11056323871, 1816008128, 5893321814, 833885088, 1415053145, 100621029656, 7931946115, 5360345475, 23117107491, 25520774809, 8474280, 2806491, 30359138, 32094436, 19136858303, 1974070788, 559058841, 7179284848, 1467510330, 30, 31, 2607308915, 1092133346, 1711313421, 5081375957, 1945270148, 23991385, 638636, 52326083, 10250567298, 5043562496, 2189548328, 43, 6692530892, 595696805, 5161225316, 1625987508, 48]\n"
     ]
    }
   ],
   "source": [
    "print playtime_list"
   ]
  },
  {
   "cell_type": "code",
   "execution_count": 25,
   "metadata": {
    "collapsed": false
   },
   "outputs": [
    {
     "name": "stdout",
     "output_type": "stream",
     "text": [
      "Comics\n",
      "Lifestyle\n",
      "Photography\n",
      "Shopping\n",
      "Personalization\n",
      "Tools\n",
      "Cards & Casino\n",
      "6\n"
     ]
    },
    {
     "data": {
      "image/png": "[encoded data removed]",
      "text/plain": [
       "<matplotlib.figure.Figure at 0x7f6d004c6e10>"
      ]
     },
     "metadata": {},
     "output_type": "display_data"
    }
   ],
   "source": [
    "fig=plt.figure()\n",
    "\n",
    "plt.plot(keys, playtime_list, lw=3)\n",
    "\n",
    "peaks=[1,6,9,16,19,20,25]\n",
    "for peak in peaks:\n",
    "    print id_category[str(peak)]\n",
    "    plt.text(peak, playtime_list[peak], id_category[str(peak+1)].replace('&','\\&'), size=text_size, ha='center', va='bottom')\n",
    "\n",
    "\n",
    "plt.tick_params(axis='both', which='major', labelsize=tick_size)\n",
    "    \n",
    "plt.title('Popular app categories as measured by total usage time', size=title_size)\n",
    "plt.xlabel('App category \\#', size=label_size)\n",
    "plt.ylabel('Total usage time (hours)', size=label_size)\n",
    "fig.set_size_inches(10,8)\n",
    "\n",
    "#################################################\n",
    "# Arrows\n",
    "ax = plt.axes()\n",
    "\n",
    "# Media and news\n",
    "#ax.arrow(peaks[1], playtime_list[peak], peaks[1], 3*playtime_list[peak], head_width=0.05, head_length=0.1, fc='k', ec='k', lw=3)\n",
    "\n",
    "print peaks[1]\n",
    "\n",
    "plt.show()"
   ]
  },
  {
   "cell_type": "markdown",
   "metadata": {},
   "source": [
    "# Normalize features"
   ]
  },
  {
   "cell_type": "code",
   "execution_count": 9,
   "metadata": {
    "collapsed": false
   },
   "outputs": [],
   "source": [
    "for i in range(total_categories):\n",
    "    mean=df[str(i)].mean()\n",
    "    std=df[str(i)].std()\n",
    "    df[str(i)]=df[str(i)].map(lambda x: (x-mean)/std)"
   ]
  },
  {
   "cell_type": "code",
   "execution_count": 10,
   "metadata": {
    "collapsed": true
   },
   "outputs": [],
   "source": [
    "X=df.values[1:,:]"
   ]
  },
  {
   "cell_type": "markdown",
   "metadata": {},
   "source": [
    "# Get feature correlations"
   ]
  },
  {
   "cell_type": "code",
   "execution_count": 13,
   "metadata": {
    "collapsed": false
   },
   "outputs": [],
   "source": [
    "correlation_matrix=np.zeros((total_categories, total_categories))"
   ]
  },
  {
   "cell_type": "code",
   "execution_count": 14,
   "metadata": {
    "collapsed": false
   },
   "outputs": [
    {
     "name": "stdout",
     "output_type": "stream",
     "text": [
      "1 0 0.00118760980683\n",
      "2 0 -0.0067543931638\n",
      "2 1 0.096533412529\n",
      "3 0 -0.00227393811741\n",
      "3 1 0.0118651829835\n",
      "3 2 0.0122993845527\n",
      "4 0 -0.00263485155001\n",
      "4 1 0.00332356583895\n",
      "4 2 -0.0062858191046\n",
      "4 3 -0.00118420989643\n",
      "5 0 0.00156318505513\n",
      "5 1 0.0421430039713\n",
      "5 2 0.0382914802302\n",
      "5 3 0.00356483953401\n",
      "5 4 0.002609306884\n",
      "6 0 0.000501206904305\n",
      "6 1 0.172170370507\n",
      "6 2 0.0135718957996\n",
      "6 3 -0.0104732025284\n",
      "6 4 0.0150459528141\n",
      "6 5 -0.00379108909564\n",
      "7 0 -0.00615872574512\n",
      "7 1 0.0943097323217\n",
      "7 2 0.0202639808762\n",
      "7 3 -0.00310344537871\n",
      "7 4 -0.000626357197176\n",
      "7 5 0.000697412458495\n",
      "7 6 0.0896275198568\n",
      "8 0 -0.00260927713888\n",
      "8 1 0.140058481335\n",
      "8 2 0.0250381985114\n",
      "8 3 -0.000428483113866\n",
      "8 4 -0.00160996914311\n",
      "8 5 0.0137763065696\n",
      "8 6 0.0711512760235\n",
      "8 7 0.0387305954642\n",
      "9 0 -0.00611111239428\n",
      "9 1 0.177677040376\n",
      "9 2 0.0670706687747\n",
      "9 3 -0.00142436999839\n",
      "9 4 -0.00571524600049\n",
      "9 5 0.00969632775274\n",
      "9 6 0.0809196455295\n",
      "9 7 0.0498816290744\n",
      "9 8 0.109716047678\n",
      "10 0 -0.0101238326796\n",
      "10 1 0.0712590454983\n",
      "10 2 0.109350040566\n",
      "10 3 0.0655184230492\n",
      "10 4 -0.00645458602158\n",
      "10 5 0.0353953523583\n",
      "10 6 0.00139463439355\n",
      "10 7 0.00967477940085\n",
      "10 8 0.0620559578262\n",
      "10 9 0.114218477268\n",
      "11 0 -0.00458156397335\n",
      "11 1 0.139146879628\n",
      "11 2 0.0772673465802\n",
      "11 3 0.0302841168425\n",
      "11 4 0.00297372729098\n",
      "11 5 0.0561836313841\n",
      "11 6 0.0509799321915\n",
      "11 7 0.112048025703\n",
      "11 8 0.0657080859789\n",
      "11 9 0.155720490302\n",
      "11 10 0.065958490773\n",
      "12 0 -0.00509036335377\n",
      "12 1 0.0412986859322\n",
      "12 2 0.016739851898\n",
      "12 3 0.000272904716346\n",
      "12 4 -0.000375466324503\n",
      "12 5 0.0226421671352\n",
      "12 6 -0.000860686123433\n",
      "12 7 0.0137010616392\n",
      "12 8 -3.94534166566e-05\n",
      "12 9 0.0173384331087\n",
      "12 10 0.0191375252496\n",
      "12 11 0.0264187242208\n",
      "13 0 -0.00335218615655\n",
      "13 1 0.0464728812716\n",
      "13 2 0.0230866489034\n",
      "13 3 0.000488925618594\n",
      "13 4 0.00156489758678\n",
      "13 5 -0.00202054964524\n",
      "13 6 0.0113320830348\n",
      "13 7 0.00580406774395\n",
      "13 8 0.000192815435154\n",
      "13 9 0.0514890247928\n",
      "13 10 0.00348524432309\n",
      "13 11 0.0175074057891\n",
      "13 12 -0.00508564148262\n",
      "14 0 0.0121180473503\n",
      "14 1 0.0547533076572\n",
      "14 2 -0.0033108571037\n",
      "14 3 -0.00148038934531\n",
      "14 4 -0.00580972027464\n",
      "14 5 0.0151527241653\n",
      "14 6 0.0353386682175\n",
      "14 7 0.0221612035467\n",
      "14 8 0.0200704864839\n",
      "14 9 0.0132109778366\n",
      "14 10 0.000781257398358\n",
      "14 11 0.0823653184138\n",
      "14 12 -0.000600941264501\n",
      "14 13 0.0272371334381\n",
      "15 0 -0.00478058035019\n",
      "15 1 0.0827709700768\n",
      "15 2 0.0432436421651\n",
      "15 3 0.0123631528341\n",
      "15 4 0.0263323966897\n",
      "15 5 0.0134812154618\n",
      "15 6 0.0547458713847\n",
      "15 7 0.0122498974397\n",
      "15 8 0.0234995892121\n",
      "15 9 0.0119031132189\n",
      "15 10 -0.0021226137853\n",
      "15 11 0.032784423902\n",
      "15 12 0.010073793468\n",
      "15 13 0.00192085384619\n",
      "15 14 -0.00260604678316\n",
      "16 0 -0.0151392478109\n",
      "16 1 0.237596560315\n",
      "16 2 0.0313603198742\n",
      "16 3 -0.000979438499437\n",
      "16 4 0.0182889448638\n",
      "16 5 0.0284949483958\n",
      "16 6 0.201896335681\n",
      "16 7 0.1012758483\n",
      "16 8 0.115017160396\n",
      "16 9 0.0689123508387\n",
      "16 10 -0.00563058243945\n",
      "16 11 0.062713183056\n",
      "16 12 0.00755488616668\n",
      "16 13 0.0325887475675\n",
      "16 14 0.0395122625943\n",
      "16 15 0.0647194552067\n",
      "17 0 -0.00541399464613\n",
      "17 1 0.102709085194\n",
      "17 2 0.0203089474684\n",
      "17 3 0.0038681479642\n",
      "17 4 -0.00946238637713\n",
      "17 5 -0.00158638295879\n",
      "17 6 0.0656991595311\n",
      "17 7 0.174492690746\n",
      "17 8 -0.00627999575849\n",
      "17 9 0.0375141442607\n",
      "17 10 0.0474844405521\n",
      "17 11 0.0303651944966\n",
      "17 12 0.00843873237742\n",
      "17 13 -0.0107628134087\n",
      "17 14 0.0103426622713\n",
      "17 15 -0.00571810215394\n",
      "17 16 0.0919247581178\n",
      "18 0 -0.00130509850779\n",
      "18 1 0.0895711832231\n",
      "18 2 0.00287909310474\n",
      "18 3 -0.00192295020434\n",
      "18 4 -0.00223509716518\n",
      "18 5 0.0517451289648\n",
      "18 6 0.0484518093271\n",
      "18 7 0.0416099940521\n",
      "18 8 -0.000696436692015\n",
      "18 9 -0.0052603258173\n",
      "18 10 0.0211927746359\n",
      "18 11 0.0868944206092\n",
      "18 12 0.0111037794335\n",
      "18 13 -0.00416891381012\n",
      "18 14 0.0494519767207\n",
      "18 15 0.0258000187128\n",
      "18 16 0.037065351893\n",
      "18 17 0.0344294869001\n",
      "19 0 -0.00577139522217\n",
      "19 1 0.0989728852305\n",
      "19 2 0.0239570541774\n",
      "19 3 0.00503297882941\n",
      "19 4 0.00808012010215\n",
      "19 5 0.0025861341345\n",
      "19 6 0.040956330062\n",
      "19 7 0.167105557256\n",
      "19 8 0.0475037552005\n",
      "19 9 0.039213831759\n",
      "19 10 0.0418690413569\n",
      "19 11 0.0513273830661\n",
      "19 12 0.0139403310639\n",
      "19 13 0.00611453839192\n",
      "19 14 0.00766431837668\n",
      "19 15 0.00767978850028\n",
      "19 16 0.0472091305567\n",
      "19 17 0.0107415483325\n",
      "19 18 0.00444740471218\n",
      "20 0 -0.00461483953245\n",
      "20 1 0.139986309455\n",
      "20 2 0.0813204230028\n",
      "20 3 0.0229305293757\n",
      "20 4 0.0126147856843\n",
      "20 5 0.015915898208\n",
      "20 6 0.0798809106825\n",
      "20 7 0.0421557624063\n",
      "20 8 0.0214448828423\n",
      "20 9 0.0488970032569\n",
      "20 10 0.0430978808103\n",
      "20 11 0.0674100905054\n",
      "20 12 0.0499382984717\n",
      "20 13 0.000385135696539\n",
      "20 14 0.0275020762901\n",
      "20 15 0.0234119102281\n",
      "20 16 0.0739564844524\n",
      "20 17 0.0384779476081\n",
      "20 18 0.00316752095248\n",
      "20 19 0.0634905114234\n",
      "21 0 -0.00160155529091\n",
      "21 1 0.0182273289304\n",
      "21 2 0.00263549832593\n",
      "21 3 0.00832240891614\n",
      "21 4 -0.00192463682865\n",
      "21 5 -0.000264208221408\n",
      "21 6 0.00745778025211\n",
      "21 7 -0.00540518877584\n",
      "21 8 0.0673052737001\n",
      "21 9 0.0275207640935\n",
      "21 10 -0.00530501347088\n",
      "21 11 0.00107079313815\n",
      "21 12 -0.00290675201075\n",
      "21 13 -0.00366971121472\n",
      "21 14 -0.00392084579156\n",
      "21 15 -0.0015871772154\n",
      "21 16 0.0137995105748\n",
      "21 17 -0.00435355449895\n",
      "21 18 0.0036520654827\n",
      "21 19 0.0467655271696\n",
      "21 20 0.00189893652329\n",
      "22 0 0.000240340258303\n",
      "22 1 -0.00546039454427\n",
      "22 2 -0.00432513245854\n",
      "22 3 -0.00133473036659\n",
      "22 4 -0.00106263168338\n",
      "22 5 0.0010376045524\n",
      "22 6 0.062627725031\n",
      "22 7 -0.00343670704467\n",
      "22 8 -0.00340636465406\n",
      "22 9 -0.00346573927422\n",
      "22 10 -0.0054789034433\n",
      "22 11 0.00137153440115\n",
      "22 12 -0.00222863249484\n",
      "22 13 -0.00192284575461\n",
      "22 14 0.0764352544807\n",
      "22 15 -0.00314213807512\n",
      "22 16 0.00176260310604\n",
      "22 17 0.059576146071\n",
      "22 18 -0.00157324522002\n",
      "22 19 0.00744254751402\n",
      "22 20 0.0101754052933\n",
      "22 21 -0.000625163260896\n",
      "23 0 -0.00160085092486\n",
      "23 1 0.0151433556169\n",
      "23 2 -0.00516359768846\n",
      "23 3 -0.00233265486929\n",
      "23 4 -0.00217626111851\n",
      "23 5 -0.00206163024027\n",
      "23 6 -0.00799426880479\n",
      "23 7 -0.00614956389712\n",
      "23 8 -0.00679985274383\n",
      "23 9 0.0075292872743\n",
      "23 10 -0.00239512260937\n",
      "23 11 0.0275230156379\n",
      "23 12 0.00386284392836\n",
      "23 13 -0.00214026209468\n",
      "23 14 -0.0031437720743\n",
      "23 15 -0.00213835440905\n",
      "23 16 -0.0143990716192\n",
      "23 17 -0.0065134720111\n",
      "23 18 0.00403539139082\n",
      "23 19 -0.00584896980696\n",
      "23 20 -0.00481588233822\n",
      "23 21 -0.00128032931703\n",
      "23 22 -0.00062764944401\n",
      "24 0 -0.00093376645525\n",
      "24 1 0.010452206644\n",
      "24 2 -0.0040818372742\n",
      "24 3 -0.0015977596687\n",
      "24 4 -0.00126381537363\n",
      "24 5 -0.00173443119463\n",
      "24 6 -0.00197515542893\n",
      "24 7 -0.00157164919625\n",
      "24 8 -0.00481436971319\n",
      "24 9 0.00578858885021\n",
      "24 10 -0.000624331217231\n",
      "24 11 0.0095796840121\n",
      "24 12 -0.00214805818284\n",
      "24 13 -0.00176653922269\n",
      "24 14 0.00464503714956\n",
      "24 15 -0.00102917494272\n",
      "24 16 -0.0109081292409\n",
      "24 17 -0.0039596510284\n",
      "24 18 -0.00171795883297\n",
      "24 19 -0.0041924836269\n",
      "24 20 -0.0036808896748\n",
      "24 21 -0.000743522852294\n",
      "24 22 -0.000364493492919\n",
      "24 23 -0.000746479734232\n",
      "25 0 0.00726436566093\n",
      "25 1 0.0605365014579\n",
      "25 2 -0.00144503511145\n",
      "25 3 -0.00450910675686\n",
      "25 4 -0.00460696078719\n",
      "25 5 -0.00256709474676\n",
      "25 6 0.011632614713\n",
      "25 7 0.24341594587\n",
      "25 8 0.0115783832899\n",
      "25 9 0.0340297919123\n",
      "25 10 -0.0125655026091\n",
      "25 11 0.0030527671311\n",
      "25 12 -0.00382189450903\n",
      "25 13 0.01357660353\n",
      "25 14 -0.00372869451641\n",
      "25 15 0.0266463686979\n",
      "25 16 0.0489047824349\n",
      "25 17 -0.000341910221055\n",
      "25 18 -0.0149016691272\n",
      "25 19 0.380952939999\n",
      "25 20 0.0117117997041\n",
      "25 21 -0.00243591001508\n",
      "25 22 0.00195868369273\n",
      "25 23 0.0123918023286\n",
      "25 24 0.00113893008758\n",
      "26 0 -0.00334187093013\n",
      "26 1 0.0162240059946\n",
      "26 2 0.00832075105617\n",
      "26 3 -0.00598245819611\n",
      "26 4 -0.00544180892617\n",
      "26 5 -0.00459579628366\n",
      "26 6 0.0731278910576\n",
      "26 7 0.018228917895\n",
      "26 8 -0.000127084577861\n",
      "26 9 0.00347290436577\n",
      "26 10 -0.0123081491921\n",
      "26 11 0.00598997762277\n",
      "26 12 -7.95363360953e-05\n",
      "26 13 -0.00653017462279\n",
      "26 14 0.00538228714336\n",
      "26 15 -0.00865934632654\n",
      "26 16 0.0991768729036\n",
      "26 17 0.0772285758697\n",
      "26 18 -0.0013123904451\n",
      "26 19 0.0343381513712\n",
      "26 20 0.0827724565869\n",
      "26 21 -0.00320737344066\n",
      "26 22 0.0105367161275\n",
      "26 23 -0.00310932157792\n",
      "26 24 -0.00187001831616\n",
      "26 25 -0.00306450961005\n",
      "27 0 -0.00178826001382\n",
      "27 1 0.0006696371196\n",
      "27 2 -0.0116279399241\n",
      "27 3 -0.00425872604437\n",
      "27 4 -0.00329570537695\n",
      "27 5 -0.0045817833625\n",
      "27 6 0.0181417316202\n",
      "27 7 0.0041603292284\n",
      "27 8 -0.00378078709347\n",
      "27 9 -0.00562688690226\n",
      "27 10 0.0127095556258\n",
      "27 11 -0.00515163302656\n",
      "27 12 -0.00569422636172\n",
      "27 13 -0.00411008978173\n",
      "27 14 0.00914514050011\n",
      "27 15 0.00621840981037\n",
      "27 16 0.0445630599787\n",
      "27 17 7.58230173871e-05\n",
      "27 18 0.0271685497134\n",
      "27 19 -0.00505059573676\n",
      "27 20 0.00041568924788\n",
      "27 21 0.0424115630519\n",
      "27 22 -0.000990678314033\n",
      "27 23 -0.00202890119833\n",
      "27 24 -0.00117823936852\n",
      "27 25 -0.00134604660059\n",
      "27 26 -0.00103444311577\n",
      "28 0 0.0149196852519\n",
      "28 1 0.135996117092\n",
      "28 2 0.0499549141923\n",
      "28 3 0.0479820411478\n",
      "28 4 0.00613185376481\n",
      "28 5 0.00693589329655\n",
      "28 6 0.0943947384786\n",
      "28 7 0.0217037395035\n",
      "28 8 0.0388989798695\n",
      "28 9 0.0759595950782\n",
      "28 10 0.0423826050968\n",
      "28 11 0.0283446853055\n",
      "28 12 0.0145025093536\n",
      "28 13 0.178241307563\n",
      "28 14 -0.000284669989335\n",
      "28 15 0.0440100588111\n",
      "28 16 0.0445231171601\n",
      "28 17 0.0474214287554\n",
      "28 18 0.0353681818199\n",
      "28 19 0.0251444947315\n",
      "28 20 0.0421545924899\n",
      "28 21 -0.00169502505847\n",
      "28 22 -0.00315640559048\n",
      "28 23 0.00810502382639\n",
      "28 24 -0.00337718298022\n",
      "28 25 -0.00241117024588\n",
      "28 26 0.0226775446285\n",
      "28 27 0.00403731398577\n",
      "29 0 -0.00124876327736\n",
      "29 1 0.015418736494\n",
      "29 2 0.00379968632539\n",
      "29 3 -0.0018248629333\n",
      "29 4 -0.00320551905458\n",
      "29 5 -0.00335030165144\n",
      "29 6 0.0284328484006\n",
      "29 7 0.0122399355679\n",
      "29 8 0.00453704368008\n",
      "29 9 0.00070342643957\n",
      "29 10 -0.00237812032675\n",
      "29 11 0.0133606563412\n",
      "29 12 0.0160710045583\n",
      "29 13 0.00447704408637\n",
      "29 14 0.0053193384918\n",
      "29 15 -0.00526823773976\n",
      "29 16 -0.00619210388801\n",
      "29 17 0.0168665113596\n",
      "29 18 -0.00216111309303\n",
      "29 19 -0.00217427464922\n",
      "29 20 0.0193397715736\n",
      "29 21 -0.00152999370796\n",
      "29 22 -0.000972488062415\n",
      "29 23 -0.0019916477097\n",
      "29 24 -0.00115660523131\n",
      "29 25 -0.00226799399149\n",
      "29 26 0.0106936551249\n",
      "29 27 -0.00129341043319\n",
      "29 28 -0.00712312840953\n",
      "30 0 -2.16963073076e-07\n",
      "30 1 -3.1185057572e-06\n",
      "30 2 -1.21520733592e-06\n",
      "30 3 -3.71241047338e-07\n",
      "30 4 -2.93639451722e-07\n",
      "30 5 -4.57394909664e-07\n",
      "30 6 -1.53903322602e-06\n",
      "30 7 -1.12482271235e-06\n",
      "30 8 -1.11861507099e-06\n",
      "30 9 -1.32618550638e-06\n",
      "30 10 -1.51686245245e-06\n",
      "30 11 -1.62874603137e-06\n",
      "30 12 -6.15852710638e-07\n",
      "30 13 -5.31521244126e-07\n",
      "30 14 -5.44804658595e-07\n",
      "30 15 -8.68275614419e-07\n",
      "30 16 -2.54470314216e-06\n",
      "30 17 -9.20028359836e-07\n",
      "30 18 -4.34750162142e-07\n",
      "30 19 -1.06544477041e-06\n",
      "30 20 -1.79936120195e-06\n",
      "30 21 -1.71263216789e-07\n",
      "30 22 -8.23706992552e-08\n",
      "30 23 -1.72987262136e-07\n",
      "30 24 -1.00461966884e-07\n",
      "30 25 -3.85259763865e-07\n",
      "30 26 -4.34483635664e-07\n",
      "30 27 -2.7372078273e-07\n",
      "30 28 -1.02651539181e-06\n",
      "30 29 -2.68721683512e-07\n",
      "31 0 -2.16963073066e-07\n",
      "31 1 -3.1185057572e-06\n",
      "31 2 -1.2152073359e-06\n",
      "31 3 -3.71241047348e-07\n",
      "31 4 -2.93639451735e-07\n",
      "31 5 -4.57394909664e-07\n",
      "31 6 -1.53903322601e-06\n",
      "31 7 -1.12482271235e-06\n",
      "31 8 -1.11861507105e-06\n",
      "31 9 -1.32618550635e-06\n",
      "31 10 -1.51686245246e-06\n",
      "31 11 -1.62874603139e-06\n",
      "31 12 -6.15852710598e-07\n",
      "31 13 -5.31521244131e-07\n",
      "31 14 -5.44804658612e-07\n",
      "31 15 -8.68275614423e-07\n",
      "31 16 -2.54470314216e-06\n",
      "31 17 -9.20028359838e-07\n",
      "31 18 -4.34750162147e-07\n",
      "31 19 -1.06544477041e-06\n",
      "31 20 -1.79936120194e-06\n",
      "31 21 -1.71263216794e-07\n",
      "31 22 -8.23706992426e-08\n",
      "31 23 -1.72987262137e-07\n",
      "31 24 -1.00461966891e-07\n",
      "31 25 -3.85259763858e-07\n",
      "31 26 -4.34483635671e-07\n",
      "31 27 -2.7372078272e-07\n",
      "31 28 -1.02651539179e-06\n",
      "31 29 -2.68721683515e-07\n",
      "31 30 0.000286041189931\n",
      "32 0 0.0134081836552\n",
      "32 1 0.000509274718217\n",
      "32 2 0.0084902023654\n",
      "32 3 -0.00338694953541\n",
      "32 4 -0.00254605990138\n",
      "32 5 -0.00174652570841\n",
      "32 6 0.0291765598434\n",
      "32 7 0.00529242231696\n",
      "32 8 -0.00130324970812\n",
      "32 9 0.0145590108678\n",
      "32 10 -0.00399093515653\n",
      "32 11 -0.00764558418068\n",
      "32 12 -0.00512408545511\n",
      "32 13 -0.00444136078522\n",
      "32 14 -0.00334895815291\n",
      "32 15 -0.000924108001893\n",
      "32 16 0.0165433079809\n",
      "32 17 -0.000143102389677\n",
      "32 18 -0.00281534145963\n",
      "32 19 0.00164378873055\n",
      "32 20 0.0386511293932\n",
      "32 21 -0.000816263639934\n",
      "32 22 0.00380040921063\n",
      "32 23 -0.00177964166942\n",
      "32 24 -0.000983512906284\n",
      "32 25 0.00674574183146\n",
      "32 26 0.0115447917211\n",
      "32 27 0.00490291050944\n",
      "32 28 0.00491778028607\n",
      "32 29 -0.00145266933685\n",
      "32 30 -2.40458069756e-07\n",
      "32 31 -2.40458069745e-07\n",
      "33 0 -0.00243337056497\n",
      "33 1 0.0416267174923\n",
      "33 2 -0.00627063412078\n",
      "33 3 -0.000693185015388\n",
      "33 4 -0.00372562658559\n",
      "33 5 -0.0001486310367\n",
      "33 6 0.037665276198\n",
      "33 7 -0.00618874564572\n",
      "33 8 0.0213744768294\n",
      "33 9 0.0621593916434\n",
      "33 10 -0.0165603275768\n",
      "33 11 0.0019491965713\n",
      "33 12 0.00084076762826\n",
      "33 13 -0.00535032075107\n",
      "33 14 0.010970194207\n",
      "33 15 -0.00532677723633\n",
      "33 16 0.0354442795524\n",
      "33 17 0.000228230405508\n",
      "33 18 -0.00296897484682\n",
      "33 19 -0.000692812166298\n",
      "33 20 0.0058722152499\n",
      "33 21 -0.00227109837169\n",
      "33 22 0.107688261492\n",
      "33 23 -0.00228013019866\n",
      "33 24 -0.00132413503804\n",
      "33 25 0.00381144683434\n",
      "33 26 0.00710182833146\n",
      "33 27 -0.00354664550662\n",
      "33 28 -0.00298760109537\n",
      "33 29 -0.00269064029286\n",
      "33 30 -3.07633741016e-07\n",
      "33 31 -3.07633741012e-07\n",
      "33 32 -0.00196140750714\n",
      "34 0 -0.00311998231427\n",
      "34 1 0.0428230792455\n",
      "34 2 0.0245703976346\n",
      "34 3 0.0050056817584\n",
      "34 4 -0.00429513768332\n",
      "34 5 -0.000393198766253\n",
      "34 6 -0.0110236814655\n",
      "34 7 0.00709326375078\n",
      "34 8 0.0172065816684\n",
      "34 9 0.13712292514\n",
      "34 10 0.0250886726428\n",
      "34 11 0.00231547328111\n",
      "34 12 -0.00707210028643\n",
      "34 13 -0.00540590257024\n",
      "34 14 -0.00576378230114\n",
      "34 15 -0.00848959659604\n",
      "34 16 0.0211691557599\n",
      "34 17 0.0158572949786\n",
      "34 18 0.00652658759236\n",
      "34 19 0.0201661790575\n",
      "34 20 0.00669400604022\n",
      "34 21 -0.00239682671022\n",
      "34 22 -0.00122239798675\n",
      "34 23 -0.00130223906237\n",
      "34 24 -0.00151991589201\n",
      "34 25 0.0819748703261\n",
      "34 26 -0.000139139157361\n",
      "34 27 -0.00380975887617\n",
      "34 28 0.0198302934546\n",
      "34 29 -0.00056160400504\n",
      "34 30 -3.53131902155e-07\n",
      "34 31 -3.53131902191e-07\n",
      "34 32 -0.00318726471473\n",
      "34 33 0.0057373801965\n",
      "35 0 0.017808613945\n",
      "35 1 0.0500730552872\n",
      "35 2 0.031020604745\n",
      "35 3 0.0203435715296\n",
      "35 4 -0.00451521790305\n",
      "35 5 6.05546324977e-05\n",
      "35 6 -0.0187059005203\n",
      "35 7 0.0101920869235\n",
      "35 8 -0.00544363970077\n",
      "35 9 -0.00723693872992\n",
      "35 10 0.0330398697937\n",
      "35 11 0.0106909936573\n",
      "35 12 0.000607661004013\n",
      "35 13 0.0132190215706\n",
      "35 14 -0.011341165108\n",
      "35 15 0.08023089813\n",
      "35 16 0.00887177909918\n",
      "35 17 0.0467333136126\n",
      "35 18 -0.0085139683533\n",
      "35 19 0.00886090142924\n",
      "35 20 0.0149047260893\n",
      "35 21 -0.00434525870749\n",
      "35 22 -0.00221215604014\n",
      "35 23 0.0192051805403\n",
      "35 24 0.0235118512842\n",
      "35 25 0.000404623798607\n",
      "35 26 0.00696427096219\n",
      "35 27 -0.00459999544095\n",
      "35 28 0.0265332730047\n",
      "35 29 -0.0044487403949\n",
      "35 30 -6.37779996e-07\n",
      "35 31 -6.3777999602e-07\n",
      "35 32 -0.00213109522128\n",
      "35 33 -0.00710601445532\n",
      "35 34 0.00987567397468\n",
      "36 0 -0.00317148245517\n",
      "36 1 0.0073487206154\n",
      "36 2 0.0163318805877\n",
      "36 3 -0.00559114933007\n",
      "36 4 -0.00395804304923\n",
      "36 5 0.0131912286674\n",
      "36 6 0.0106286137011\n",
      "36 7 -0.00213700988272\n",
      "36 8 -0.0113116185124\n",
      "36 9 -0.00336458941282\n",
      "36 10 0.00356269222056\n",
      "36 11 -0.0096518421553\n",
      "36 12 -0.00196429925\n",
      "36 13 -0.00761959288633\n",
      "36 14 -0.00858382887879\n",
      "36 15 -0.00246188419882\n",
      "36 16 0.00375460727186\n",
      "36 17 -0.00889897491964\n",
      "36 18 0.00181195871996\n",
      "36 19 -0.00357790669222\n",
      "36 20 -0.0118737803763\n",
      "36 21 -0.00167173849941\n",
      "36 22 -0.00112999052436\n",
      "36 23 -0.00277676394551\n",
      "36 24 0.0823156734077\n",
      "36 25 0.00175852509916\n",
      "36 26 -0.00173694064971\n",
      "36 27 -0.000992115533991\n",
      "36 28 -0.000315388972282\n",
      "36 29 0.00288238277162\n",
      "36 30 -3.746545895e-07\n",
      "36 31 -3.74654589515e-07\n",
      "36 32 0.000290948603043\n",
      "36 33 -0.00410425709806\n",
      "36 34 -0.001105823498\n",
      "36 35 0.0421132947819\n",
      "37 0 -0.00213520010458\n",
      "37 1 0.0187909754669\n",
      "37 2 -0.0028253661774\n",
      "37 3 -0.00397896518919\n",
      "37 4 -0.00318507019151\n",
      "37 5 -0.00196140325847\n",
      "37 6 0.0493839594156\n",
      "37 7 -0.00657204164983\n",
      "37 8 -0.00565380578141\n",
      "37 9 0.00441570017431\n",
      "37 10 0.00232117216928\n",
      "37 11 0.0141420841696\n",
      "37 12 0.035244153363\n",
      "37 13 0.0256999198642\n",
      "37 14 0.0538541303116\n",
      "37 15 0.00518163268665\n",
      "37 16 -0.00976025912879\n",
      "37 17 -0.00782519441442\n",
      "37 18 -0.00464171445651\n",
      "37 19 0.00333495490066\n",
      "37 20 0.0909908843361\n",
      "37 21 -0.00187382787309\n",
      "37 22 -0.000918597275767\n",
      "37 23 0.0437679523741\n",
      "37 24 -0.00109251152348\n",
      "37 25 0.00352743055486\n",
      "37 26 -0.00357606001742\n",
      "37 27 0.0334742761893\n",
      "37 28 -0.000442389119212\n",
      "37 29 -0.00286182316861\n",
      "37 30 -2.52479646419e-07\n",
      "37 31 -2.52479646412e-07\n",
      "37 32 -0.00178865415788\n",
      "37 33 0.00194658943178\n",
      "37 34 -0.00383049526241\n",
      "37 35 -0.00539914997436\n",
      "37 36 -0.00074938076438\n",
      "38 0 -0.000758719891046\n",
      "38 1 0.0126363752027\n",
      "38 2 0.0117271144682\n",
      "38 3 -0.00129823901356\n",
      "38 4 -0.00102689688325\n",
      "38 5 -0.00148855206075\n",
      "38 6 0.00380589032692\n",
      "38 7 -0.00393351683485\n",
      "38 8 -0.00062022589113\n",
      "38 9 0.0474687828781\n",
      "38 10 -0.00491626986796\n",
      "38 11 -0.00565703465822\n",
      "38 12 -0.000210703796311\n",
      "38 13 -0.00185874418084\n",
      "38 14 0.0279911901814\n",
      "38 15 -0.00303647241708\n",
      "38 16 0.0297715174509\n",
      "38 17 -0.00321736337813\n",
      "38 18 -0.00149984357076\n",
      "38 19 -0.00349889132543\n",
      "38 20 -0.00456920388285\n",
      "38 21 -0.000604139904822\n",
      "38 22 -0.000296164486904\n",
      "38 23 -0.000606542481168\n",
      "38 24 -0.000352236092416\n",
      "38 25 -0.00134725958902\n",
      "38 26 -0.0015194592664\n",
      "38 27 -0.000957363203919\n",
      "38 28 0.00360800530931\n",
      "38 29 -0.000939784664729\n",
      "38 30 -6.48219915462e-08\n",
      "38 31 -6.48219915526e-08\n",
      "38 32 -0.000840917968026\n",
      "38 33 -0.00107590884866\n",
      "38 34 0.00216508076328\n",
      "38 35 -0.00223037041015\n",
      "38 36 -0.00131025188886\n",
      "38 37 -0.000887706148923\n",
      "39 0 0.0716566903713\n",
      "39 1 -0.00768165701777\n",
      "39 2 -0.00499319855895\n",
      "39 3 -0.00202120856926\n",
      "39 4 -0.00167190824267\n",
      "39 5 -0.000254660913261\n",
      "39 6 -0.00606701144633\n",
      "39 7 0.00225912965874\n",
      "39 8 0.00402479045928\n",
      "39 9 0.00314850490664\n",
      "39 10 -0.00207748997969\n",
      "39 11 -0.0077209665858\n",
      "39 12 0.000863765684565\n",
      "39 13 -0.00278760464836\n",
      "39 14 -0.00254659000751\n",
      "39 15 0.0820577991436\n",
      "39 16 -0.00843401696086\n",
      "39 17 -0.00509677465723\n",
      "39 18 -0.00226851152071\n",
      "39 19 -0.00325380776202\n",
      "39 20 -0.00157627086275\n",
      "39 21 -0.000983610431794\n",
      "39 22 -0.000482190427436\n",
      "39 23 -0.000987522107018\n",
      "39 24 -0.000573481559741\n",
      "39 25 -0.001749672503\n",
      "39 26 0.000256069192058\n",
      "39 27 -0.00104668328232\n",
      "39 28 0.0210584388856\n",
      "39 29 -0.00152224419506\n",
      "39 30 -1.32902832175e-07\n",
      "39 31 -1.32902832179e-07\n",
      "39 32 -0.00120278156798\n",
      "39 33 -0.00175170545532\n",
      "39 34 -0.0017981382272\n",
      "39 35 -0.00360569327003\n",
      "39 36 -0.002133243336\n",
      "39 37 0.00969046937139\n",
      "39 38 -0.000465975045536\n",
      "40 0 0.0186321201742\n",
      "40 1 0.00690383017611\n",
      "40 2 -0.00266374036434\n",
      "40 3 0.00300394486989\n",
      "40 4 0.0110409774773\n",
      "40 5 -0.00325520614428\n",
      "40 6 0.00720173620228\n",
      "40 7 -0.0098809652131\n",
      "40 8 0.00830746986643\n",
      "40 9 0.0162285988987\n",
      "40 10 0.0136581262349\n",
      "40 11 -0.00351179414136\n",
      "40 12 0.00307961235659\n",
      "40 13 0.00590737650614\n",
      "40 14 0.01622309262\n",
      "40 15 -0.00579487229474\n",
      "40 16 0.0274346497232\n",
      "40 17 0.00115980468396\n",
      "40 18 -0.00392036832754\n",
      "40 19 -0.0117201510357\n",
      "40 20 0.00104793739961\n",
      "40 21 -0.00336809147987\n",
      "40 22 -0.00183043441162\n",
      "40 23 0.000797492606349\n",
      "40 24 0.00216811169871\n",
      "40 25 0.0152075375964\n",
      "40 26 -0.00261276360746\n",
      "40 27 -0.00479619112575\n",
      "40 28 0.0169909735992\n",
      "40 29 -0.00358696342006\n",
      "40 30 -5.05820792238e-07\n",
      "40 31 -5.05820792236e-07\n",
      "40 32 -0.00195631933944\n",
      "40 33 0.0308290287843\n",
      "40 34 -0.00413960927471\n",
      "40 35 0.00496916910503\n",
      "40 36 0.000795934483024\n",
      "40 37 0.044349999138\n",
      "40 38 0.00149252876762\n",
      "40 39 0.00331566817135\n",
      "41 0 0.00409637093741\n",
      "41 1 0.012730957772\n",
      "41 2 -0.0085796196051\n",
      "41 3 -0.00267253177277\n",
      "41 4 -0.00283819565509\n",
      "41 5 -0.00467549236904\n",
      "41 6 0.0157540576419\n",
      "41 7 -0.00717844778371\n",
      "41 8 -0.00927329050792\n",
      "41 9 0.0181817847978\n",
      "41 10 -0.0150497512392\n",
      "41 11 -0.0102697392719\n",
      "41 12 0.0278887563991\n",
      "41 13 0.00515837399278\n",
      "41 14 -0.0046316401912\n",
      "41 15 -0.0063558409467\n",
      "41 16 -0.0156818588744\n",
      "41 17 -0.00571046068313\n",
      "41 18 0.0172900518103\n",
      "41 19 -0.00590582643547\n",
      "41 20 0.00754812654576\n",
      "41 21 -0.00214104839927\n",
      "41 22 -0.00105024274395\n",
      "41 23 -0.00215088867047\n",
      "41 24 -0.00124908088721\n",
      "41 25 -0.00178173900745\n",
      "41 26 0.00560634104305\n",
      "41 27 -0.00308207839307\n",
      "41 28 -0.00738844288358\n",
      "41 29 -0.00211321330332\n",
      "41 30 -2.90218958556e-07\n",
      "41 31 -2.90218958546e-07\n",
      "41 32 0.00166764275004\n",
      "41 33 0.00386652167608\n",
      "41 34 -0.00411221651539\n",
      "41 35 -0.00300476853421\n",
      "41 36 -0.00334678841456\n",
      "41 37 0.00183913914859\n",
      "41 38 -0.00101492456633\n",
      "41 39 -0.00162502599223\n",
      "41 40 0.0141788257925\n",
      "42 0 -0.00299049273393\n",
      "42 1 0.0361627197574\n",
      "42 2 -0.00346282878777\n",
      "42 3 -0.00571931648773\n",
      "42 4 -0.0015178717362\n",
      "42 5 0.00943944510715\n",
      "42 6 0.0765665298046\n",
      "42 7 0.00949102640044\n",
      "42 8 0.0932014393373\n",
      "42 9 0.0135891682119\n",
      "42 10 -0.0113876473444\n",
      "42 11 -0.00425395465617\n",
      "42 12 0.0166897292901\n",
      "42 13 -0.00429245810028\n",
      "42 14 -0.000433079820932\n",
      "42 15 -0.00861121308089\n",
      "42 16 0.0205306025107\n",
      "42 17 -0.000109575663622\n",
      "42 18 -0.00713622747052\n",
      "42 19 -0.00706899745192\n",
      "42 20 0.0130117606089\n",
      "42 21 -0.00305327611137\n",
      "42 22 0.0168671351926\n",
      "42 23 -0.00306903863444\n",
      "42 24 -0.0017822761136\n",
      "42 25 -4.24683935181e-05\n",
      "42 26 -0.00207185369742\n",
      "42 27 -0.00171236343176\n",
      "42 28 0.0300029685861\n",
      "42 29 -0.00366308450205\n",
      "42 30 -4.14088744016e-07\n",
      "42 31 -4.1408874398e-07\n",
      "42 32 0.0259962653535\n",
      "42 33 0.00794470046693\n",
      "42 34 0.0230919909968\n",
      "42 35 -0.00985111140203\n",
      "42 36 0.00270054765434\n",
      "42 37 0.0111851052529\n",
      "42 38 -0.00120619281846\n",
      "42 39 0.00174417191569\n",
      "42 40 -0.00392879464977\n",
      "42 41 -0.00179250375102\n",
      "43 0 -2.16963073095e-07\n",
      "43 1 -3.1185057572e-06\n",
      "43 2 -1.21520733591e-06\n",
      "43 3 -3.71241047352e-07\n",
      "43 4 -2.93639451742e-07\n",
      "43 5 -4.57394909662e-07\n",
      "43 6 -1.53903322602e-06\n",
      "43 7 -1.12482271234e-06\n",
      "43 8 -1.11861507101e-06\n",
      "43 9 -1.32618550633e-06\n",
      "43 10 -1.51686245245e-06\n",
      "43 11 -1.62874603137e-06\n",
      "43 12 -6.15852710584e-07\n",
      "43 13 -5.31521244137e-07\n",
      "43 14 -5.44804658626e-07\n",
      "43 15 -8.68275614405e-07\n",
      "43 16 -2.54470314214e-06\n",
      "43 17 -9.20028359834e-07\n",
      "43 18 -4.34750162141e-07\n",
      "43 19 -1.06544477042e-06\n",
      "43 20 -1.79936120196e-06\n",
      "43 21 -1.71263216815e-07\n",
      "43 22 -8.23706992477e-08\n",
      "43 23 -1.7298726212e-07\n",
      "43 24 -1.00461966903e-07\n",
      "43 25 -3.85259763848e-07\n",
      "43 26 -4.34483635682e-07\n",
      "43 27 -2.73720782726e-07\n",
      "43 28 -1.02651539182e-06\n",
      "43 29 -2.68721683535e-07\n",
      "43 30 0.000286041189931\n",
      "43 31 0.000286041189931\n",
      "43 32 -2.40458069728e-07\n",
      "43 33 -3.0763374101e-07\n",
      "43 34 -3.53131902152e-07\n",
      "43 35 -6.37779996012e-07\n",
      "43 36 -3.74654589519e-07\n",
      "43 37 -2.52479646412e-07\n",
      "43 38 -6.48219915418e-08\n",
      "43 39 -1.32902832161e-07\n",
      "43 40 -5.05820792247e-07\n",
      "43 41 -2.90218958568e-07\n",
      "43 42 -4.14088743979e-07\n",
      "44 0 -0.00419482030759\n",
      "44 1 0.0274147993791\n",
      "44 2 0.00844806641272\n",
      "44 3 -0.00636570121597\n",
      "44 4 -0.00131540477484\n",
      "44 5 -0.00364856536997\n",
      "44 6 0.0274132809194\n",
      "44 7 0.0201480791717\n",
      "44 8 -0.00839530211439\n",
      "44 9 0.022322507437\n",
      "44 10 0.00261249537244\n",
      "44 11 0.00474532546803\n",
      "44 12 0.00186389001944\n",
      "44 13 -0.00853270226226\n",
      "44 14 -0.00597132221842\n",
      "44 15 0.00881074192393\n",
      "44 16 0.00443479995122\n",
      "44 17 0.0510450576635\n",
      "44 18 -0.00825553810865\n",
      "44 19 0.0237827040494\n",
      "44 20 0.0247452292653\n",
      "44 21 0.000716204641062\n",
      "44 22 0.00011313062635\n",
      "44 23 -0.0035829425738\n",
      "44 24 -0.00208071442764\n",
      "44 25 -0.00225077483292\n",
      "44 26 0.0340000826149\n",
      "44 27 0.0119640574403\n",
      "44 28 0.0179252552828\n",
      "44 29 0.0105441406348\n",
      "44 30 -4.83448319229e-07\n",
      "44 31 -4.83448319224e-07\n",
      "44 32 -0.00121666405037\n",
      "44 33 -0.00400517135491\n",
      "44 34 -0.00421570158409\n",
      "44 35 -0.00642825586834\n",
      "44 36 -0.00572348515635\n",
      "44 37 0.0223722987036\n",
      "44 38 -0.00169065767458\n",
      "44 39 0.000349483305922\n",
      "44 40 -0.00579106235964\n",
      "44 41 3.97228429053e-05\n",
      "44 42 0.0129949240381\n",
      "44 43 -4.83448319226e-07\n",
      "45 0 0.000638015689912\n",
      "45 1 0.0111011457499\n",
      "45 2 0.0129080633405\n",
      "45 3 -0.00240392060305\n",
      "45 4 -0.00398107884377\n",
      "45 5 0.098096322752\n",
      "45 6 -0.000313581210577\n",
      "45 7 0.000946396160707\n",
      "45 8 0.00721150560375\n",
      "45 9 0.0136215004814\n",
      "45 10 0.00493535131823\n",
      "45 11 0.00980903591106\n",
      "45 12 0.0206108337065\n",
      "45 13 0.000940492487059\n",
      "45 14 -0.000349622933227\n",
      "45 15 0.0564548188089\n",
      "45 16 0.0266561660245\n",
      "45 17 0.000617817476553\n",
      "45 18 0.00613605933584\n",
      "45 19 -0.0014693453143\n",
      "45 20 0.00579155979243\n",
      "45 21 -0.00242219615011\n",
      "45 22 -0.00125665766849\n",
      "45 23 -0.0025736247714\n",
      "45 24 -0.00149457550125\n",
      "45 25 0.0161304665453\n",
      "45 26 0.11796340052\n",
      "45 27 0.0034337079491\n",
      "45 28 0.00226790680673\n",
      "45 29 -0.00269323247396\n",
      "45 30 -3.47176833326e-07\n",
      "45 31 -3.47176833319e-07\n",
      "45 32 -0.00205064593787\n",
      "45 33 -0.00306262763302\n",
      "45 34 -0.0014194139431\n",
      "45 35 -0.00361591310796\n",
      "45 36 0.0142479674539\n",
      "45 37 -0.00151917377345\n",
      "45 38 -0.00121439804898\n",
      "45 39 0.518589244251\n",
      "45 40 0.0103845738454\n",
      "45 41 -0.00390773172196\n",
      "45 42 -0.00261886445572\n",
      "45 43 -3.47176833337e-07\n",
      "45 44 -0.00672844209503\n",
      "46 0 -0.00332256989015\n",
      "46 1 0.0578867201512\n",
      "46 2 0.00675793597205\n",
      "46 3 0.0125453118838\n",
      "46 4 -0.00645196388202\n",
      "46 5 -0.00630508825946\n",
      "46 6 -0.0124971699906\n",
      "46 7 0.00060846768465\n",
      "46 8 -0.0056333008818\n",
      "46 9 0.0352463796277\n",
      "46 10 0.0459321346653\n",
      "46 11 -0.00217335638863\n",
      "46 12 0.012494201365\n",
      "46 13 -0.000703821022152\n",
      "46 14 0.000750563027943\n",
      "46 15 0.0266208933485\n",
      "46 16 0.0284004392469\n",
      "46 17 0.023846509612\n",
      "46 18 0.00928074734769\n",
      "46 19 -0.00233131932464\n",
      "46 20 0.0180359395352\n",
      "46 21 -0.00492877164877\n",
      "46 22 -0.00241142527688\n",
      "46 23 0.00352986314934\n",
      "46 24 -0.00287365766098\n",
      "46 25 0.0323552915325\n",
      "46 26 0.00718970344397\n",
      "46 27 -0.00775833118383\n",
      "46 28 0.0163888388457\n",
      "46 29 -0.00550450663196\n",
      "46 30 -6.6768105939e-07\n",
      "46 31 -6.67681059336e-07\n",
      "46 32 -0.00383237084387\n",
      "46 33 -0.00847441513007\n",
      "46 34 0.164793689191\n",
      "46 35 0.0786079390212\n",
      "46 36 0.0123936368918\n",
      "46 37 0.0127911933355\n",
      "46 38 -0.00233495347277\n",
      "46 39 -0.00380157737455\n",
      "46 40 0.0292532442669\n",
      "46 41 -0.00119694283943\n",
      "46 42 -0.00981344428457\n",
      "46 43 -6.67681059363e-07\n",
      "46 44 -0.00288511893702\n",
      "46 45 0.0400168713607\n",
      "47 0 0.010402232625\n",
      "47 1 0.0666067577964\n",
      "47 2 -0.0049181085201\n",
      "47 3 -0.0033132179833\n",
      "47 4 -0.00704959211893\n",
      "47 5 -0.00415738043213\n",
      "47 6 0.0673453379274\n",
      "47 7 0.0280630462135\n",
      "47 8 0.00612091091512\n",
      "47 9 -0.00548771321839\n",
      "47 10 -0.00882356159955\n",
      "47 11 -0.00109810146162\n",
      "47 12 0.00231557693301\n",
      "47 13 0.0692912059167\n",
      "47 14 0.00140698207985\n",
      "47 15 0.0319152209644\n",
      "47 16 0.101961105279\n",
      "47 17 0.00684841155764\n",
      "47 18 -0.000395293696303\n",
      "47 19 0.00653212057646\n",
      "47 20 0.0220824308804\n",
      "47 21 -0.00430118109755\n",
      "47 22 0.0385336961542\n",
      "47 23 -0.00413852473855\n",
      "47 24 -0.00134731603064\n",
      "47 25 0.00849861688253\n",
      "47 26 0.00596301594742\n",
      "47 27 0.00202556454231\n",
      "47 28 0.0178771436508\n",
      "47 29 0.0038014213686\n",
      "47 30 -6.15129530802e-07\n",
      "47 31 -6.15129530805e-07\n",
      "47 32 0.0232845807443\n",
      "47 33 -0.000305574395867\n",
      "47 34 -0.00751005106841\n",
      "47 35 0.012123857246\n",
      "47 36 0.0251932293355\n",
      "47 37 0.0123968569498\n",
      "47 38 -0.000267983339297\n",
      "47 39 0.00052158278994\n",
      "47 40 0.0373873752749\n",
      "47 41 0.0448087977298\n",
      "47 42 0.00425052061383\n",
      "47 43 -6.15129530809e-07\n",
      "47 44 0.0175121394208\n",
      "47 45 -0.00506789913543\n",
      "47 46 -0.0138896972013\n",
      "48 0 -2.16963073084e-07\n",
      "48 1 -3.1185057572e-06\n",
      "48 2 -1.21520733593e-06\n",
      "48 3 -3.71241047352e-07\n",
      "48 4 -2.93639451729e-07\n",
      "48 5 -4.57394909659e-07\n",
      "48 6 -1.53903322602e-06\n",
      "48 7 -1.12482271234e-06\n",
      "48 8 -1.11861507105e-06\n",
      "48 9 -1.32618550635e-06\n",
      "48 10 -1.51686245246e-06\n",
      "48 11 -1.62874603138e-06\n",
      "48 12 -6.15852710617e-07\n",
      "48 13 -5.31521244131e-07\n",
      "48 14 -5.44804658598e-07\n",
      "48 15 -8.68275614425e-07\n",
      "48 16 -2.54470314214e-06\n",
      "48 17 -9.20028359845e-07\n",
      "48 18 -4.34750162143e-07\n",
      "48 19 -1.06544477041e-06\n",
      "48 20 -1.79936120195e-06\n",
      "48 21 -1.71263216791e-07\n",
      "48 22 -8.23706992656e-08\n",
      "48 23 -1.72987262131e-07\n",
      "48 24 -1.00461966895e-07\n",
      "48 25 -3.85259763851e-07\n",
      "48 26 -4.34483635672e-07\n",
      "48 27 -2.73720782736e-07\n",
      "48 28 -1.02651539178e-06\n",
      "48 29 -2.68721683532e-07\n",
      "48 30 0.000286041189931\n",
      "48 31 0.000286041189931\n",
      "48 32 -2.4045806973e-07\n",
      "48 33 -3.07633741008e-07\n",
      "48 34 -3.53131902189e-07\n",
      "48 35 -6.37779995995e-07\n",
      "48 36 -3.74654589521e-07\n",
      "48 37 -2.5247964642e-07\n",
      "48 38 -6.48219915446e-08\n",
      "48 39 -1.32902832176e-07\n",
      "48 40 -5.05820792248e-07\n",
      "48 41 -2.90218958573e-07\n",
      "48 42 -4.14088743993e-07\n",
      "48 43 0.000286041189931\n",
      "48 44 -4.83448319227e-07\n",
      "48 45 -3.47176833312e-07\n",
      "48 46 -6.6768105935e-07\n",
      "48 47 -6.15129530801e-07\n"
     ]
    }
   ],
   "source": [
    "for i in range(total_categories):\n",
    "    for j in range(i):\n",
    "        correlation=0\n",
    "        for k in range(X.shape[0]):\n",
    "            correlation=correlation+X[k,i]*X[k,j]\n",
    "        correlation=correlation/X.shape[0]\n",
    "        correlation_matrix[i,j]=correlation\n",
    "        print i,j,correlation_matrix[i,j]"
   ]
  },
  {
   "cell_type": "code",
   "execution_count": 38,
   "metadata": {
    "collapsed": false
   },
   "outputs": [
    {
     "name": "stdout",
     "output_type": "stream",
     "text": [
      "[[  0.00000000e+00   0.00000000e+00   0.00000000e+00 ...,   0.00000000e+00\n",
      "    0.00000000e+00   0.00000000e+00]\n",
      " [ -1.00831772e-02   0.00000000e+00   0.00000000e+00 ...,   0.00000000e+00\n",
      "    0.00000000e+00   0.00000000e+00]\n",
      " [ -1.47207848e-02   1.01042955e-01   0.00000000e+00 ...,   0.00000000e+00\n",
      "    0.00000000e+00   0.00000000e+00]\n",
      " ..., \n",
      " [ -4.07625477e-03   7.44147943e-02   1.93838965e-02 ...,   0.00000000e+00\n",
      "    0.00000000e+00   0.00000000e+00]\n",
      " [  2.52072052e-02   3.47274791e-02  -2.04481913e-02 ...,  -1.98497762e-02\n",
      "    0.00000000e+00   0.00000000e+00]\n",
      " [ -1.03585519e-06  -1.38613203e-05  -6.86934703e-06 ...,  -2.97467345e-06\n",
      "   -2.95582469e-06   0.00000000e+00]]\n"
     ]
    }
   ],
   "source": [
    "print correlation_matrix"
   ]
  },
  {
   "cell_type": "code",
   "execution_count": 35,
   "metadata": {
    "collapsed": false
   },
   "outputs": [
    {
     "data": {
      "image/png": "[encoded data removed]",
      "text/plain": [
       "<matplotlib.figure.Figure at 0x7fc4af4ea350>"
      ]
     },
     "metadata": {},
     "output_type": "display_data"
    }
   ],
   "source": [
    "fig=plt.figure()\n",
    "plt.imshow(correlation_matrix, origin='lower', interpolation='None', vmin=-.75, vmax=.75,\\\n",
    "          cmap='seismic')\n",
    "plt.colorbar(fraction=0.046, pad=0.04)\n",
    "plt.grid()\n",
    "plt.title('app category correlation by usage', size=title_size)\n",
    "\n",
    "fig.set_size_inches(10,10)"
   ]
  },
  {
   "cell_type": "markdown",
   "metadata": {},
   "source": [
    "# PCA"
   ]
  },
  {
   "cell_type": "code",
   "execution_count": 14,
   "metadata": {
    "collapsed": false
   },
   "outputs": [],
   "source": [
    "X=df.values[1:,1:]"
   ]
  },
  {
   "cell_type": "code",
   "execution_count": 15,
   "metadata": {
    "collapsed": false
   },
   "outputs": [],
   "source": [
    "pca_model=PCA(n_components=49)\n",
    "pca_model.fit(X)\n",
    "X_pca=pca_model.transform(X)"
   ]
  },
  {
   "cell_type": "code",
   "execution_count": 16,
   "metadata": {
    "collapsed": false
   },
   "outputs": [
    {
     "data": {
      "text/plain": [
       "0.86482259061786571"
      ]
     },
     "execution_count": 16,
     "metadata": {},
     "output_type": "execute_result"
    }
   ],
   "source": [
    "sum(pca_model.explained_variance_ratio_[:35])"
   ]
  },
  {
   "cell_type": "code",
   "execution_count": 17,
   "metadata": {
    "collapsed": false
   },
   "outputs": [
    {
     "data": {
      "text/plain": [
       "(1357, 49)"
      ]
     },
     "execution_count": 17,
     "metadata": {},
     "output_type": "execute_result"
    }
   ],
   "source": [
    "X_pca.shape"
   ]
  },
  {
   "cell_type": "code",
   "execution_count": 18,
   "metadata": {
    "collapsed": false
   },
   "outputs": [
    {
     "data": {
      "image/png": "[encoded data removed]",
      "text/plain": [
       "<matplotlib.figure.Figure at 0x7f9fef2c2e90>"
      ]
     },
     "metadata": {},
     "output_type": "display_data"
    }
   ],
   "source": [
    "plt.scatter(X_pca[:,0], X_pca[:,2])\n",
    "plt.show()"
   ]
  },
  {
   "cell_type": "markdown",
   "metadata": {},
   "source": [
    "# Visualization"
   ]
  },
  {
   "cell_type": "code",
   "execution_count": 17,
   "metadata": {
    "collapsed": false
   },
   "outputs": [
    {
     "name": "stdout",
     "output_type": "stream",
     "text": [
      "(3495, 49)\n"
     ]
    }
   ],
   "source": [
    "print X.shape"
   ]
  },
  {
   "cell_type": "code",
   "execution_count": 16,
   "metadata": {
    "collapsed": false
   },
   "outputs": [
    {
     "data": {
      "image/png": "[encoded data removed]",
      "text/plain": [
       "<matplotlib.figure.Figure at 0x7fc4b071c490>"
      ]
     },
     "metadata": {},
     "output_type": "display_data"
    }
   ],
   "source": [
    "num_plots=len(peaks[0:5])**2\n",
    "sub_peaks=peaks[0:5]\n",
    "num=770\n",
    "\n",
    "f, axarr = plt.subplots(len(sub_peaks), len(sub_peaks))\n",
    "\n",
    "\n",
    "\n",
    "plot_num=0\n",
    "for i in range(0, len(sub_peaks)):\n",
    "    for j in range(0, len(sub_peaks)):\n",
    "        if i != j:\n",
    "            axarr[i,j].scatter(X[i,:], X[j,:])\n",
    "            plot_num+=1\n",
    "        \n",
    "f.subplots_adjust(hspace=0.2)\n",
    "\n",
    "plt.show()\n",
    "\n",
    "#for i in range(len(peaks)):\n",
    "#    for j in range(i):\n",
    "#        ind1=peaks[i]\n",
    "#        ind2=peaks[j]\n",
    "#        \n",
    "#        \n",
    "#        plt.subplot(num+j+7*i)\n",
    "#        plt.scatter(X[ind1], X[ind2])\n",
    "#        \n",
    "#        plt.xlim()\n",
    "#        plt.show()"
   ]
  },
  {
   "cell_type": "code",
   "execution_count": null,
   "metadata": {
    "collapsed": true
   },
   "outputs": [],
   "source": []
  },
  {
   "cell_type": "markdown",
   "metadata": {},
   "source": [
    "# Run k-means"
   ]
  },
  {
   "cell_type": "code",
   "execution_count": 98,
   "metadata": {
    "collapsed": false
   },
   "outputs": [
    {
     "name": "stdout",
     "output_type": "stream",
     "text": [
      "\n"
     ]
    }
   ],
   "source": [
    "axes=[0,5,8,15]"
   ]
  },
  {
   "cell_type": "code",
   "execution_count": 29,
   "metadata": {
    "collapsed": false
   },
   "outputs": [
    {
     "ename": "NameError",
     "evalue": "name 'axes' is not defined",
     "output_type": "error",
     "traceback": [
      "\u001b[1;31m---------------------------------------------------------------------------\u001b[0m",
      "\u001b[1;31mNameError\u001b[0m                                 Traceback (most recent call last)",
      "\u001b[1;32m<ipython-input-29-7bc9efb31216>\u001b[0m in \u001b[0;36m<module>\u001b[1;34m()\u001b[0m\n\u001b[1;32m----> 1\u001b[1;33m \u001b[1;32mfor\u001b[0m \u001b[0mi\u001b[0m \u001b[1;32min\u001b[0m \u001b[0mrange\u001b[0m\u001b[1;33m(\u001b[0m\u001b[0mlen\u001b[0m\u001b[1;33m(\u001b[0m\u001b[0maxes\u001b[0m\u001b[1;33m)\u001b[0m\u001b[1;33m)\u001b[0m\u001b[1;33m:\u001b[0m\u001b[1;33m\u001b[0m\u001b[0m\n\u001b[0m\u001b[0;32m      2\u001b[0m     \u001b[1;32mprint\u001b[0m \u001b[0maxes\u001b[0m\u001b[1;33m[\u001b[0m\u001b[0mi\u001b[0m\u001b[1;33m]\u001b[0m\u001b[1;33m,\u001b[0m \u001b[0mid_category\u001b[0m\u001b[1;33m[\u001b[0m\u001b[0mstr\u001b[0m\u001b[1;33m(\u001b[0m\u001b[0mi\u001b[0m\u001b[1;33m+\u001b[0m\u001b[1;36m2\u001b[0m\u001b[1;33m)\u001b[0m\u001b[1;33m]\u001b[0m\u001b[1;33m\u001b[0m\u001b[0m\n",
      "\u001b[1;31mNameError\u001b[0m: name 'axes' is not defined"
     ]
    }
   ],
   "source": [
    "for i in range(len(axes)):\n",
    "    print axes[i], id_category[str(i+2)]"
   ]
  },
  {
   "cell_type": "code",
   "execution_count": 7,
   "metadata": {
    "collapsed": false
   },
   "outputs": [
    {
     "ename": "NameError",
     "evalue": "name 'X' is not defined",
     "output_type": "error",
     "traceback": [
      "\u001b[1;31m---------------------------------------------------------------------------\u001b[0m",
      "\u001b[1;31mNameError\u001b[0m                                 Traceback (most recent call last)",
      "\u001b[1;32m<ipython-input-7-114f532414c8>\u001b[0m in \u001b[0;36m<module>\u001b[1;34m()\u001b[0m\n\u001b[1;32m----> 1\u001b[1;33m \u001b[0mX_limited\u001b[0m\u001b[1;33m=\u001b[0m\u001b[0mX\u001b[0m\u001b[1;33m[\u001b[0m\u001b[1;33m:\u001b[0m\u001b[1;33m,\u001b[0m\u001b[0maxes\u001b[0m\u001b[1;33m]\u001b[0m\u001b[1;33m\u001b[0m\u001b[0m\n\u001b[0m",
      "\u001b[1;31mNameError\u001b[0m: name 'X' is not defined"
     ]
    }
   ],
   "source": [
    "X_limited=X[:,axes]"
   ]
  },
  {
   "cell_type": "code",
   "execution_count": 19,
   "metadata": {
    "collapsed": false
   },
   "outputs": [
    {
     "data": {
      "text/plain": [
       "KMeans(copy_x=True, init='k-means++', max_iter=300, n_clusters=5, n_init=10,\n",
       "    n_jobs=1, precompute_distances='auto', random_state=None, tol=0.0001,\n",
       "    verbose=0)"
      ]
     },
     "execution_count": 19,
     "metadata": {},
     "output_type": "execute_result"
    }
   ],
   "source": [
    "model=KMeans(n_clusters=5)\n",
    "model.fit(X[1:])"
   ]
  },
  {
   "cell_type": "code",
   "execution_count": 20,
   "metadata": {
    "collapsed": false
   },
   "outputs": [
    {
     "name": "stdout",
     "output_type": "stream",
     "text": [
      "[[ 0.39228502  0.60748606  0.59191263  0.47404567  0.40193105  0.54272516\n",
      "   0.39345977  0.56314164  0.66518864  0.60368253  0.50301597  0.40547881\n",
      "   0.33600675  0.54942887  0.28566105  0.64140547  0.36718585  0.63932644\n",
      "   0.39344073  0.43632229  0.56757046  0.64424007  0.5719721   0.56406021\n",
      "   0.42412246  0.65769976  0.40203471  0.45439684  0.43406933  0.63424495\n",
      "   0.53357928  0.50846511  0.51251307  0.457074    0.39322028  0.71453704\n",
      "   0.51200092  0.37865126  0.45437717  0.45081055  0.4840919   0.71990011\n",
      "   0.54139027  0.29920729  0.60829335  0.61344876  0.49932361  0.48890398\n",
      "   0.35665382  0.61986379]\n",
      " [ 0.52249701  0.328625    0.44286418  0.3487375   0.28552894  0.42369612\n",
      "   0.49365777  0.44140509  0.38819319  0.61779404  0.51742732  0.52728983\n",
      "   0.45870878  0.38616632  0.58826633  0.45049743  0.64684186  0.48900446\n",
      "   0.44879631  0.39896739  0.43051989  0.61278462  0.69873254  0.62071472\n",
      "   0.44452408  0.48197098  0.61319525  0.37685434  0.53803695  0.43212596\n",
      "   0.38051944  0.41449592  0.35957269  0.47266333  0.58774827  0.61476124\n",
      "   0.51622942  0.45725532  0.473122    0.56352941  0.56051635  0.63630086\n",
      "   0.50756646  0.56906765  0.44247971  0.41588892  0.48294029  0.47075095\n",
      "   0.34718975  0.39937501]\n",
      " [ 0.66378085  0.50995913  0.53707455  0.52332352  0.50541553  0.42741096\n",
      "   0.5687466   0.5780047   0.55878344  0.61248281  0.59960602  0.57557034\n",
      "   0.3615697   0.53100556  0.37023263  0.45588278  0.40672109  0.54278162\n",
      "   0.36348974  0.6305126   0.54210429  0.69700299  0.46423589  0.31712695\n",
      "   0.57883607  0.47196835  0.41096016  0.42311094  0.58241424  0.46499656\n",
      "   0.50956054  0.47830126  0.4960583   0.60929195  0.51514285  0.4011138\n",
      "   0.45216993  0.63897069  0.6180483   0.45076124  0.3936162   0.45861521\n",
      "   0.41783811  0.56553533  0.46186631  0.52387236  0.48796788  0.41364216\n",
      "   0.60437794  0.50272553]\n",
      " [ 0.57344321  0.62075108  0.57828727  0.61029958  0.64733304  0.53539301\n",
      "   0.48289885  0.56806066  0.35984629  0.55984101  0.5010115   0.5899579\n",
      "   0.56602582  0.49374104  0.51997863  0.54947334  0.45842165  0.37666924\n",
      "   0.66196018  0.67735835  0.51770949  0.47941609  0.44490574  0.47509807\n",
      "   0.38847922  0.33575728  0.3725124   0.49483894  0.53578914  0.42339174\n",
      "   0.37761318  0.4925904   0.54957658  0.43263635  0.60187993  0.47092932\n",
      "   0.44512307  0.35076886  0.47567928  0.44436722  0.65855992  0.54676434\n",
      "   0.55084848  0.57326538  0.45991027  0.47495781  0.61336325  0.54590642\n",
      "   0.319648    0.33005069]\n",
      " [ 0.51550289  0.40196348  0.38563411  0.42363803  0.74724811  0.61265728\n",
      "   0.45368932  0.52474189  0.46984617  0.50681978  0.51439387  0.42254873\n",
      "   0.56445336  0.50187218  0.53915764  0.5979576   0.52211534  0.50643866\n",
      "   0.43024447  0.54005303  0.56011356  0.40683551  0.61392047  0.5803146\n",
      "   0.49036171  0.61913452  0.49184753  0.67529383  0.30735289  0.58624559\n",
      "   0.55879385  0.57508074  0.47671748  0.22730592  0.4675868   0.31768006\n",
      "   0.57433595  0.53472785  0.50805014  0.55152373  0.64386134  0.44369432\n",
      "   0.484853    0.34311005  0.59973962  0.47535403  0.38519573  0.76408931\n",
      "   0.68551652  0.56732699]]\n"
     ]
    }
   ],
   "source": [
    "cluster_centers=model.cluster_centers_\n",
    "print cluster_centers"
   ]
  },
  {
   "cell_type": "code",
   "execution_count": 150,
   "metadata": {
    "collapsed": false,
    "scrolled": false
   },
   "outputs": [
    {
     "name": "stdout",
     "output_type": "stream",
     "text": [
      "Traceback (most recent call last):\n",
      "  File \"/home/preston/anaconda3/envs/py27/lib/python2.7/site-packages/IPython/core/ultratb.py\", line 1118, in get_records\n",
      "    return _fixed_getinnerframes(etb, number_of_lines_of_context, tb_offset)\n",
      "  File \"/home/preston/anaconda3/envs/py27/lib/python2.7/site-packages/IPython/core/ultratb.py\", line 300, in wrapped\n",
      "    return f(*args, **kwargs)\n",
      "  File \"/home/preston/anaconda3/envs/py27/lib/python2.7/site-packages/IPython/core/ultratb.py\", line 363, in _fixed_getinnerframes\n",
      "    lines = ulinecache.getlines(file)[start:end]\n",
      "  File \"/home/preston/anaconda3/envs/py27/lib/python2.7/site-packages/IPython/utils/ulinecache.py\", line 37, in getlines\n",
      "    return [l.decode(encoding, 'replace') for l in lines]\n",
      "KeyboardInterrupt\n"
     ]
    },
    {
     "name": "stderr",
     "output_type": "stream",
     "text": [
      "ERROR: Internal Python error in the inspect module.\n",
      "Below is the traceback from this internal error.\n",
      "\n",
      "\n",
      "Unfortunately, your original traceback can not be constructed.\n",
      "\n",
      "\n",
      "KeyboardInterrupt\n"
     ]
    },
    {
     "data": {
      "text/plain": [
       "<matplotlib.figure.Figure at 0x7f6cb7c45d90>"
      ]
     },
     "metadata": {},
     "output_type": "display_data"
    }
   ],
   "source": [
    "#total_categories\n",
    "for i in range(total_categories):\n",
    "    for j in range(i):\n",
    "        points_i=[]\n",
    "        points_j=[]\n",
    "        for k in range(cluster_centers.shape[0]):\n",
    "            points_i.append(cluster_centers[k][i])\n",
    "            points_j.append(cluster_centers[k][j])\n",
    "               \n",
    "        \n",
    "        \n",
    "        fig=plt.figure()\n",
    "\n",
    "\n",
    "        cat_i=id_category[str(i+1)].replace('&','\\&')\n",
    "        cat_j=id_category[str(j+1)].replace('&','\\&')\n",
    "\n",
    "        \n",
    "        plt.scatter(points_i, points_j, color=(1,0,0))\n",
    "   \n",
    "        \n",
    "        plt.xlabel(cat_i)\n",
    "        plt.ylabel(cat_j)\n",
    "        plt.savefig('./data/plots/kmeans/'+str(i)+'_'+str(j))\n",
    "        plt.close()"
   ]
  },
  {
   "cell_type": "code",
   "execution_count": 37,
   "metadata": {
    "collapsed": false
   },
   "outputs": [
    {
     "data": {
      "text/plain": [
       "'Comics'"
      ]
     },
     "execution_count": 37,
     "metadata": {},
     "output_type": "execute_result"
    }
   ],
   "source": [
    "id_category['1']"
   ]
  },
  {
   "cell_type": "code",
   "execution_count": 13,
   "metadata": {
    "collapsed": false
   },
   "outputs": [],
   "source": [
    "cluster_centers=cluster_centers[:,1:]"
   ]
  },
  {
   "cell_type": "code",
   "execution_count": 114,
   "metadata": {
    "collapsed": false
   },
   "outputs": [
    {
     "data": {
      "image/png": "[encoded data removed]",
      "text/plain": [
       "<matplotlib.figure.Figure at 0x7f6cbaf03150>"
      ]
     },
     "metadata": {},
     "output_type": "display_data"
    }
   ],
   "source": [
    "fig=plt.figure()\n",
    "plt.imshow(cluster_centers, extent=[0,50,0,30], aspect=1, interpolation='None',cmap='seismic')\n",
    "\n",
    "#plt.tick_params(axis='by', which='major', labelsize=tick_size)\n",
    "plt.xticks([])\n",
    "plt.yticks([])\n",
    "plt.text(-1,3, '1', ha='center', va='center', size=text_size, rotation='90')\n",
    "plt.text(-1,9, '2', ha='center', va='center', size=text_size, rotation='90')\n",
    "plt.text(-1,15, '3', ha='center', va='center', size=text_size, rotation='90')\n",
    "plt.text(-1,21, '4', ha='center', va='center', size=text_size, rotation='90')\n",
    "plt.text(-1,27, '5', ha='center', va='center', size=text_size, rotation='90')\n",
    "plt.title('Cluster centroid vectors', size=title_size)\n",
    "plt.xlabel('Category', size=label_size)\n",
    "plt.ylabel('Cluster', size=label_size, labelpad=20)\n",
    "\n",
    "\n",
    "fig.set_size_inches(10,10)\n",
    "plt.show()"
   ]
  },
  {
   "cell_type": "code",
   "execution_count": 138,
   "metadata": {
    "collapsed": false
   },
   "outputs": [
    {
     "name": "stdout",
     "output_type": "stream",
     "text": [
      "[[ 0.28333891  0.11366418]\n",
      " [-0.18955107 -0.09230142]\n",
      " [-0.0179342   0.02018504]\n",
      " [-0.09683558 -0.01958603]\n",
      " [ 0.10494536  0.01924156]]\n"
     ]
    }
   ],
   "source": [
    "\n"
   ]
  },
  {
   "cell_type": "code",
   "execution_count": 52,
   "metadata": {
    "collapsed": false
   },
   "outputs": [
    {
     "data": {
      "image/png": "[encoded data removed]",
      "text/plain": [
       "<matplotlib.figure.Figure at 0x7f13f7dbc390>"
      ]
     },
     "metadata": {},
     "output_type": "display_data"
    }
   ],
   "source": [
    "current_palette = sns.color_palette()\n",
    "sns.palplot(current_palette)"
   ]
  },
  {
   "cell_type": "code",
   "execution_count": 53,
   "metadata": {
    "collapsed": false
   },
   "outputs": [
    {
     "data": {
      "text/plain": [
       "(0.2980392156862745, 0.4470588235294118, 0.6901960784313725)"
      ]
     },
     "execution_count": 53,
     "metadata": {},
     "output_type": "execute_result"
    }
   ],
   "source": [
    "current_palette[0]"
   ]
  },
  {
   "cell_type": "code",
   "execution_count": 54,
   "metadata": {
    "collapsed": false
   },
   "outputs": [
    {
     "name": "stdout",
     "output_type": "stream",
     "text": [
      "[[ 0.60748606  0.59191263]\n",
      " [ 0.328625    0.44286418]\n",
      " [ 0.50995913  0.53707455]\n",
      " [ 0.62075108  0.57828727]\n",
      " [ 0.40196348  0.38563411]]\n",
      "[[ 0.72914102  0.26008587  0.57919565 ...,  0.632701    0.53045527\n",
      "   0.4183166 ]\n",
      " [ 0.70625931  0.40454492  0.29594033 ...,  0.67353676  0.64996749\n",
      "   0.29387748]\n",
      " [ 0.48549757  0.56065685  0.32654827 ...,  0.55205819  0.6268041\n",
      "   0.53194684]\n",
      " ..., \n",
      " [ 0.44435948  0.44174524  0.31602839 ...,  0.67638053  0.73916888\n",
      "   0.32669325]\n",
      " [ 0.5520583   0.30985193  0.26268024 ...,  0.45192709  0.70017093\n",
      "   0.59496533]\n",
      " [ 0.39132579  0.3670235   0.71573252 ...,  0.72319984  0.38719185\n",
      "   0.64201763]]\n"
     ]
    }
   ],
   "source": [
    "X=np.random.rand(100,50)/2.+.25\n",
    "print cluster_centers[:,1:3]\n",
    "print X"
   ]
  },
  {
   "cell_type": "code",
   "execution_count": 55,
   "metadata": {
    "collapsed": false
   },
   "outputs": [],
   "source": [
    "predictions=model.predict(X)"
   ]
  },
  {
   "cell_type": "code",
   "execution_count": 56,
   "metadata": {
    "collapsed": false
   },
   "outputs": [
    {
     "name": "stdout",
     "output_type": "stream",
     "text": [
      "[1 4 2 2 1 0 1 3 3 3 2 3 1 2 4 4 0 2 2 2 2 2 3 0 3 3 2 4 4 3 2 4 2 3 1 2 3\n",
      " 2 2 2 4 2 2 2 2 3 4 3 1 4 1 2 2 1 2 4 2 3 0 2 4 3 1 1 3 3 2 2 2 4 2 3 2 2\n",
      " 3 0 4 0 3 2 2 2 2 3 2 0 2 2 3 3 3 2 4 1 2 2 2 4 2 4]\n"
     ]
    }
   ],
   "source": [
    "print predictions"
   ]
  },
  {
   "cell_type": "code",
   "execution_count": 57,
   "metadata": {
    "collapsed": false
   },
   "outputs": [],
   "source": [
    "cmap=cm.jet(np.linspace(0,1,5))"
   ]
  },
  {
   "cell_type": "code",
   "execution_count": 60,
   "metadata": {
    "collapsed": false,
    "scrolled": false
   },
   "outputs": [
    {
     "data": {
      "image/png": "[encoded data removed]",
      "text/plain": [
       "<matplotlib.figure.Figure at 0x7f13f7dbca50>"
      ]
     },
     "metadata": {},
     "output_type": "display_data"
    }
   ],
   "source": [
    "for ii in range(4,5):\n",
    "    for jj in range(1,2):\n",
    "        \n",
    "        dim1=ii\n",
    "        dim2=jj\n",
    "\n",
    "        fig=plt.figure()\n",
    "        for i in range(5):\n",
    "            x_temp=[]\n",
    "            y_temp=[]\n",
    "            for j in range(X.shape[0]):\n",
    "                if predictions[j]==i:\n",
    "                    x_temp.append(X[j,dim1])\n",
    "                    y_temp.append(X[j,dim2])\n",
    "            \n",
    "            plt.scatter(x_temp, y_temp, color=cmap[i])\n",
    "    \n",
    "            plt.scatter(cluster_centers[i,dim1], cluster_centers[i,dim2], marker='o', s=200, color=cmap[i])\n",
    "    \n",
    "        fig.set_size_inches(10,10)\n",
    "            \n",
    "        plt.title('App usage and k-means clusters', size=title_size)\n",
    "        plt.xlabel('Normalized time spent on \\'Medical\\'', size=label_size)\n",
    "        plt.ylabel('Normalized time spent on \\'Communication\\'', size=label_size)\n",
    "        plt.savefig('./data/plots/kmeans/'+str(ii)+'_'+str(jj))\n",
    "        plt.show()\n"
   ]
  },
  {
   "cell_type": "code",
   "execution_count": 143,
   "metadata": {
    "collapsed": false
   },
   "outputs": [
    {
     "name": "stdout",
     "output_type": "stream",
     "text": [
      "100\n"
     ]
    }
   ],
   "source": [
    "print "
   ]
  },
  {
   "cell_type": "code",
   "execution_count": 136,
   "metadata": {
    "collapsed": false
   },
   "outputs": [
    {
     "name": "stdout",
     "output_type": "stream",
     "text": [
      "[2 2 2 2 2 2 2 2 2 2 2 2 2 2 2 2 2 2 2 2 2 2 2 2 2 2 2 2 2 2 2 2 2 2 2 2 2\n",
      " 2 2 2 2 2 2 2 2 2 2 2 2 2 2 2 2 2 2 2 2 2 2 2 2 2 2 2 2 2 2 2 2 2 2 2 2 2\n",
      " 2 2 2 2 2 2 2 2 2 2 2 2 2 2 2 2 2 2 2 2 2 2 2 2 2 2]\n"
     ]
    }
   ],
   "source": [
    "print predictions"
   ]
  },
  {
   "cell_type": "code",
   "execution_count": null,
   "metadata": {
    "collapsed": true
   },
   "outputs": [],
   "source": []
  }
 ],
 "metadata": {
  "kernelspec": {
   "display_name": "Python 2",
   "language": "python",
   "name": "python2"
  }
 },
 "nbformat": 4,
 "nbformat_minor": 0
}
