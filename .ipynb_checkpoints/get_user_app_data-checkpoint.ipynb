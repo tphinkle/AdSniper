{
 "cells": [
  {
   "cell_type": "code",
   "execution_count": 1,
   "metadata": {
    "collapsed": true
   },
   "outputs": [],
   "source": [
    "import matplotlib.pyplot as plt\n",
    "%matplotlib inline\n",
    "import pandas as pd\n",
    "import numpy as np\n",
    "import re\n",
    "import time"
   ]
  },
  {
   "cell_type": "markdown",
   "metadata": {},
   "source": [
    "# Load the data"
   ]
  },
  {
   "cell_type": "code",
   "execution_count": 2,
   "metadata": {
    "collapsed": true
   },
   "outputs": [],
   "source": [
    "directory='./data/'"
   ]
  },
  {
   "cell_type": "code",
   "execution_count": 3,
   "metadata": {
    "collapsed": true
   },
   "outputs": [],
   "source": [
    "appdesc_names=['application_version_id','package_name','name','version','developer','app_type','category','m2_category',\\\n",
    "               'permissions','permission_weight','notification_score','analytic_providers','apk_size','ignore_category',\\\n",
    "               'icon_link', 'not_on_play','create_device_id','create_date','update_date']"
   ]
  },
  {
   "cell_type": "code",
   "execution_count": 4,
   "metadata": {
    "collapsed": true
   },
   "outputs": [],
   "source": [
    "appdesc_df=pd.read_csv(directory+'application_versions.csv', error_bad_lines=False, names=appdesc_names)"
   ]
  },
  {
   "cell_type": "code",
   "execution_count": 5,
   "metadata": {
    "collapsed": false
   },
   "outputs": [],
   "source": [
    "###########################\n",
    "# Lowercase\n",
    "appdesc_df['name']=appdesc_df['name'].map(lambda x: str(x).lower())\n",
    "\n",
    "###########################\n",
    "# Remove special characters\n",
    "appdesc_df['name']=appdesc_df['name'].map(lambda x: re.sub(r'([^\\s\\w]|_)+', '', x))"
   ]
  },
  {
   "cell_type": "markdown",
   "metadata": {},
   "source": [
    "### Load the app usage file"
   ]
  },
  {
   "cell_type": "markdown",
   "metadata": {},
   "source": [
    "filenames = ['./data/app_usage_events_all_september.csv','./data/app_usage_events_all_october.csv','./data/app_usage_events_all_november.csv']\n",
    "with open('./data/app_usage_events_all', 'w') as outfile:\n",
    "    for fname in filenames:\n",
    "        with open(fname) as infile:\n",
    "            if fname != './data/app_usage_events_all_september.csv':\n",
    "                infile.readline()\n",
    "            for line in infile:\n",
    "                outfile.write(line)"
   ]
  },
  {
   "cell_type": "code",
   "execution_count": 6,
   "metadata": {
    "collapsed": false
   },
   "outputs": [],
   "source": [
    "def get_category_integer(package_name):\n",
    "    try:\n",
    "        category_integer=int(appdesc_df[appdesc_df['package_name']==package_name]['category'].values[0])\n",
    "    except:\n",
    "        return 0\n",
    "    if category_integer<0:\n",
    "        category_integer=0\n",
    "    return category_integer"
   ]
  },
  {
   "cell_type": "code",
   "execution_count": 7,
   "metadata": {
    "collapsed": false
   },
   "outputs": [],
   "source": [
    "total_lines=166415646\n",
    "#total_lines=10000\n",
    "lines_per_read=1000000\n",
    "\n",
    "header_list=['device_id','application_version_id','type','start_date','run_time','end_date','continuation','year',\\\n",
    "             'month','day','package_name']\n",
    "\n",
    "device_id_index=0\n",
    "package_name_index=10\n",
    "run_time_index=4"
   ]
  },
  {
   "cell_type": "code",
   "execution_count": 8,
   "metadata": {
    "collapsed": false
   },
   "outputs": [],
   "source": [
    "null_line={'device_id': '0'}\n",
    "total_categories=49\n",
    "for i in range(total_categories):\n",
    "    null_line[str(i)]=i\n",
    "    \n",
    "user_df=pd.DataFrame(data=null_line, index=[0])\n",
    "cols=(['device_id']+[str(i) for i in range(total_categories)])\n",
    "user_df=user_df[cols]"
   ]
  },
  {
   "cell_type": "code",
   "execution_count": 9,
   "metadata": {
    "collapsed": false
   },
   "outputs": [
    {
     "data": {
      "text/html": [
       "<div>\n",
       "<table border=\"1\" class=\"dataframe\">\n",
       "  <thead>\n",
       "    <tr style=\"text-align: right;\">\n",
       "      <th></th>\n",
       "      <th>device_id</th>\n",
       "      <th>0</th>\n",
       "      <th>1</th>\n",
       "      <th>2</th>\n",
       "      <th>3</th>\n",
       "      <th>4</th>\n",
       "      <th>5</th>\n",
       "      <th>6</th>\n",
       "      <th>7</th>\n",
       "      <th>8</th>\n",
       "      <th>...</th>\n",
       "      <th>39</th>\n",
       "      <th>40</th>\n",
       "      <th>41</th>\n",
       "      <th>42</th>\n",
       "      <th>43</th>\n",
       "      <th>44</th>\n",
       "      <th>45</th>\n",
       "      <th>46</th>\n",
       "      <th>47</th>\n",
       "      <th>48</th>\n",
       "    </tr>\n",
       "  </thead>\n",
       "  <tbody>\n",
       "    <tr>\n",
       "      <th>0</th>\n",
       "      <td>0</td>\n",
       "      <td>0</td>\n",
       "      <td>1</td>\n",
       "      <td>2</td>\n",
       "      <td>3</td>\n",
       "      <td>4</td>\n",
       "      <td>5</td>\n",
       "      <td>6</td>\n",
       "      <td>7</td>\n",
       "      <td>8</td>\n",
       "      <td>...</td>\n",
       "      <td>39</td>\n",
       "      <td>40</td>\n",
       "      <td>41</td>\n",
       "      <td>42</td>\n",
       "      <td>43</td>\n",
       "      <td>44</td>\n",
       "      <td>45</td>\n",
       "      <td>46</td>\n",
       "      <td>47</td>\n",
       "      <td>48</td>\n",
       "    </tr>\n",
       "  </tbody>\n",
       "</table>\n",
       "<p>1 rows × 50 columns</p>\n",
       "</div>"
      ],
      "text/plain": [
       "  device_id  0  1  2  3  4  5  6  7  8 ...  39  40  41  42  43  44  45  46  \\\n",
       "0         0  0  1  2  3  4  5  6  7  8 ...  39  40  41  42  43  44  45  46   \n",
       "\n",
       "   47  48  \n",
       "0  47  48  \n",
       "\n",
       "[1 rows x 50 columns]"
      ]
     },
     "execution_count": 9,
     "metadata": {},
     "output_type": "execute_result"
    }
   ],
   "source": [
    "user_df.head()"
   ]
  },
  {
   "cell_type": "code",
   "execution_count": 10,
   "metadata": {
    "collapsed": true
   },
   "outputs": [],
   "source": [
    "pickle_filename='./data/pkl/user_data.pkl'"
   ]
  },
  {
   "cell_type": "code",
   "execution_count": null,
   "metadata": {
    "collapsed": true
   },
   "outputs": [],
   "source": []
  },
  {
   "cell_type": "code",
   "execution_count": 11,
   "metadata": {
    "collapsed": false
   },
   "outputs": [
    {
     "name": "stdout",
     "output_type": "stream",
     "text": [
      "i= 1002 dt= 0.0141408443451\n",
      "(1, 50)\n",
      "50\n",
      "[34106, 0, 0, 0, 0, 0, 0, 0, 0, 0, 0, 140617, 0, 0, 0, 0, 0, 0, 0, 0, 0, 0, 0, 0, 0, 0, 0, 0, 0, 0, 0, 0, 0, 0, 0, 0, 0, 0, 0, 0, 0, 0, 0, 0, 0, 0, 0, 0, 0, 0]\n",
      "i= 2003 dt= 0.367441892624\n",
      "(2, 50)\n",
      "50\n",
      "[34106, 0, 0, 0, 0, 0, 0, 0, 0, 0, 0, 0, 58661, 0, 0, 0, 0, 0, 0, 0, 0, 0, 0, 0, 0, 0, 0, 0, 0, 0, 0, 0, 0, 0, 0, 0, 0, 0, 0, 0, 0, 0, 0, 0, 0, 0, 0, 0, 0, 0]\n",
      "i= 3004 dt= 0.09001994133\n",
      "(3, 50)\n",
      "50\n",
      "[34106, 0, 0, 39448, 0, 0, 0, 0, 0, 0, 0, 0, 0, 0, 0, 0, 0, 0, 0, 0, 0, 0, 0, 0, 0, 0, 0, 0, 0, 0, 0, 0, 0, 0, 0, 0, 0, 0, 0, 0, 0, 0, 0, 0, 0, 0, 0, 0, 0, 0]\n",
      "i= 4005 dt= 0.0804641246796\n",
      "i= 5006 dt= 0.175305128098\n",
      "(4, 50)\n",
      "50\n",
      "[34106, 31927, 0, 0, 0, 0, 0, 0, 0, 0, 0, 0, 0, 0, 0, 0, 0, 0, 0, 0, 0, 0, 0, 0, 0, 0, 0, 0, 0, 0, 0, 0, 0, 0, 0, 0, 0, 0, 0, 0, 0, 0, 0, 0, 0, 0, 0, 0, 0, 0]\n",
      "i= 6007 dt= 0.115443944931\n",
      "i= 7008 dt= 0.0126340389252\n",
      "i= 8009 dt= 25.6576559544\n",
      "i= 9010 dt= 0.820921897888\n",
      "(5, 50)\n",
      "50\n",
      "[34106, 0, 0, 0, 0, 0, 0, 0, 0, 0, 0, 0, 0, 0, 0, 0, 0, 0, 0, 0, 39170, 0, 0, 0, 0, 0, 0, 0, 0, 98934, 0, 0, 0, 0, 0, 0, 0, 0, 0, 0, 0, 0, 0, 0, 0, 0, 0, 0, 0, 0]\n",
      "i= 10001 dt= 0.114151954651\n"
     ]
    }
   ],
   "source": [
    "i=1\n",
    "while i < total_lines:\n",
    "    t1=time.time()\n",
    "    skiprows=i\n",
    "    if skiprows+lines_per_read > total_lines:\n",
    "        nrows=total_lines-skiprows\n",
    "    else:\n",
    "        nrows=lines_per_read\n",
    "        \n",
    "    temp_df=pd.read_csv(directory+'app_usage_events_all.csv', skiprows=skiprows, nrows=nrows, names=header_list)\n",
    "    temp_df=temp_df[temp_df['type']!=4][['device_id', 'package_name', 'run_time']]\n",
    "    temp_df['category']=temp_df['package_name'].map(lambda x: get_category_integer(x))\n",
    "    temp_df=temp_df[temp_df['category']!=0]\n",
    "    \n",
    "    for device_id in temp_df['device_id'].unique():\n",
    "        temp_temp_df=temp_df[temp_df['device_id']==device_id]\n",
    "        totals_dict={}\n",
    "        totals_dict['device_id']=device_id\n",
    "        totals_list=[0 for i in range(total_categories+1)]\n",
    "        totals_list[0]=device_id\n",
    "        \n",
    "        for i in range(total_categories):\n",
    "            totals_dict[str(i)]=0\n",
    "\n",
    "        for category in np.sort(temp_temp_df['category'].unique()):\n",
    "            category_total=temp_temp_df[temp_temp_df['category']==category]['run_time'].sum()\n",
    "            totals_dict[category]=category_total\n",
    "            totals_list[category]=category_total\n",
    "            \n",
    "        print user_df.shape\n",
    "        print len(totals_list)\n",
    "        print totals_list\n",
    "        user_df.loc[len(user_df)]=totals_list\n",
    "        \n",
    "    i=skiprows+nrows+1\n",
    "    t2=time.time()\n",
    "    print 'i=',i,'dt=',t2-t1\n",
    "    user_df.to_pickle(pickle_filename)"
   ]
  },
  {
   "cell_type": "code",
   "execution_count": 13,
   "metadata": {
    "collapsed": false
   },
   "outputs": [
    {
     "data": {
      "text/plain": [
       "array([['0', 0, 1, 2, 3, 4, 5, 6, 7, 8, 9, 10, 11, 12, 13, 14, 15, 16, 17,\n",
       "        18, 19, 20, 21, 22, 23, 24, 25, 26, 27, 28, 29, 30, 31, 32, 33, 34,\n",
       "        35, 36, 37, 38, 39, 40, 41, 42, 43, 44, 45, 46, 47, 48],\n",
       "       [34106, 0, 0, 0, 0, 0, 0, 0, 0, 0, 0, 140617, 0, 0, 0, 0, 0, 0, 0,\n",
       "        0, 0, 0, 0, 0, 0, 0, 0, 0, 0, 0, 0, 0, 0, 0, 0, 0, 0, 0, 0, 0, 0,\n",
       "        0, 0, 0, 0, 0, 0, 0, 0, 0],\n",
       "       [34106, 0, 0, 0, 0, 0, 0, 0, 0, 0, 0, 0, 58661, 0, 0, 0, 0, 0, 0, 0,\n",
       "        0, 0, 0, 0, 0, 0, 0, 0, 0, 0, 0, 0, 0, 0, 0, 0, 0, 0, 0, 0, 0, 0,\n",
       "        0, 0, 0, 0, 0, 0, 0, 0],\n",
       "       [34106, 0, 0, 39448, 0, 0, 0, 0, 0, 0, 0, 0, 0, 0, 0, 0, 0, 0, 0, 0,\n",
       "        0, 0, 0, 0, 0, 0, 0, 0, 0, 0, 0, 0, 0, 0, 0, 0, 0, 0, 0, 0, 0, 0,\n",
       "        0, 0, 0, 0, 0, 0, 0, 0],\n",
       "       [34106, 31927, 0, 0, 0, 0, 0, 0, 0, 0, 0, 0, 0, 0, 0, 0, 0, 0, 0, 0,\n",
       "        0, 0, 0, 0, 0, 0, 0, 0, 0, 0, 0, 0, 0, 0, 0, 0, 0, 0, 0, 0, 0, 0,\n",
       "        0, 0, 0, 0, 0, 0, 0, 0],\n",
       "       [34106, 0, 0, 0, 0, 0, 0, 0, 0, 0, 0, 0, 0, 0, 0, 0, 0, 0, 0, 0,\n",
       "        39170, 0, 0, 0, 0, 0, 0, 0, 0, 98934, 0, 0, 0, 0, 0, 0, 0, 0, 0, 0,\n",
       "        0, 0, 0, 0, 0, 0, 0, 0, 0, 0]], dtype=object)"
      ]
     },
     "execution_count": 13,
     "metadata": {},
     "output_type": "execute_result"
    }
   ],
   "source": [
    "user_df.values"
   ]
  },
  {
   "cell_type": "code",
   "execution_count": 11,
   "metadata": {
    "collapsed": false
   },
   "outputs": [
    {
     "name": "stderr",
     "output_type": "stream",
     "text": [
      "/home/preston/anaconda3/envs/py27/lib/python2.7/site-packages/IPython/core/interactiveshell.py:2723: DtypeWarning: Columns (0,1,2,4,6,7,8,9) have mixed types. Specify dtype option on import or set low_memory=False.\n",
      "  interactivity=interactivity, compiler=compiler, result=result)\n"
     ]
    },
    {
     "ename": "TypeError",
     "evalue": "append() takes at least 2 arguments (1 given)",
     "output_type": "error",
     "traceback": [
      "\u001b[1;31m---------------------------------------------------------------------------\u001b[0m",
      "\u001b[1;31mTypeError\u001b[0m                                 Traceback (most recent call last)",
      "\u001b[1;32m<ipython-input-11-0dca296078f7>\u001b[0m in \u001b[0;36m<module>\u001b[1;34m()\u001b[0m\n\u001b[0;32m      2\u001b[0m \u001b[0mtest\u001b[0m\u001b[1;33m[\u001b[0m\u001b[1;34m'device_id'\u001b[0m\u001b[1;33m]\u001b[0m\u001b[1;33m.\u001b[0m\u001b[0munique\u001b[0m\u001b[1;33m(\u001b[0m\u001b[1;33m)\u001b[0m\u001b[1;33m\u001b[0m\u001b[0m\n\u001b[0;32m      3\u001b[0m \u001b[1;33m\u001b[0m\u001b[0m\n\u001b[1;32m----> 4\u001b[1;33m \u001b[0mtest\u001b[0m\u001b[1;33m.\u001b[0m\u001b[0mappend\u001b[0m\u001b[1;33m(\u001b[0m\u001b[1;33m)\u001b[0m\u001b[1;33m\u001b[0m\u001b[0m\n\u001b[0m",
      "\u001b[1;31mTypeError\u001b[0m: append() takes at least 2 arguments (1 given)"
     ]
    }
   ],
   "source": [
    "test=pd.read_csv(directory+'app_usage_events_all.csv', skiprows=0, nrows=1000000, names=header_list)\n",
    "test['device_id'].unique()\n",
    "\n",
    "test.append()"
   ]
  },
  {
   "cell_type": "markdown",
   "metadata": {},
   "source": [
    "#### Get all usages of a particular application"
   ]
  },
  {
   "cell_type": "code",
   "execution_count": null,
   "metadata": {
    "collapsed": true
   },
   "outputs": [],
   "source": []
  }
 ],
 "metadata": {
  "kernelspec": {
   "display_name": "Python 2",
   "language": "python",
   "name": "python2"
  },
  "language_info": {
   "codemirror_mode": {
    "name": "ipython",
    "version": 2
   },
   "file_extension": ".py",
   "mimetype": "text/x-python",
   "name": "python",
   "nbconvert_exporter": "python",
   "pygments_lexer": "ipython2",
   "version": "2.7.11"
  }
 },
 "nbformat": 4,
 "nbformat_minor": 0
}
